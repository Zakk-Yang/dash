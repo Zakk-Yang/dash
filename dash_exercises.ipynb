{
 "cells": [
  {
   "cell_type": "markdown",
   "metadata": {},
   "source": [
    "# Introduction to Dash\n",
    "\n",
    "In this part we will learn more about Dash syntax to build dashboards. We will combine it with what we've learnt so far about Plotly library in order to build an interactive dashboard with multiple charts.\n",
    "\n",
    "## Dash Building Blocks\n",
    "\n",
    "The first part of Dash app is App Layout that specifies the order and arrangement of all the components constituting a dashboard. The components can be of 2 types:\n",
    "\n",
    "- Dash HTML components\n",
    "- Dash Core components\n",
    "\n",
    "### Dash HTML Components\n",
    "\n",
    "Dash provides an abstraction layer to define all the necessary elements as Python objects without the need to use Javascript and HTML. Instead of writing HTML, you compose your layout using Python structures with the `dash_html_components` library. \n",
    "\n",
    "Here are some examples of the main HTML components:\n",
    "\n",
    "![html](pics/html-comp.png)\n",
    "\n",
    "### Dash Core Components\n",
    "\n",
    "Dash Core components are supercharged interactive elements like Plotly charts, sliders, and dropdowns. A core set of components, written and maintained by the Dash team, is available in the `dash_core_components` library.\n",
    "\n",
    "Here are some examples of the main Dash Core components:\n",
    "\n",
    "![dcc](pics/dcc.png)\n",
    "\n",
    "You can find full Dash documentation [here](https://dash.plot.ly/)."
   ]
  },
  {
   "cell_type": "markdown",
   "metadata": {},
   "source": [
    "The format we will use in this part is sliglty different. Instead of executing the code directly from the cell, we will write the code to the python file using Jupyter notebook magic `%%writefile <filename.py>` and then run the file using another magic command `%run <filename.py>`. If you prefer you can also use your favourite IDE and write and execute the code directly from there."
   ]
  },
  {
   "cell_type": "code",
   "execution_count": 1,
   "metadata": {},
   "outputs": [
    {
     "name": "stdout",
     "output_type": "stream",
     "text": [
      "Overwriting html_component.py\n"
     ]
    }
   ],
   "source": [
    "%%writefile html_component.py\n",
    "#static html example\n",
    "\n",
    "# import necessary libraries\n",
    "import dash\n",
    "import dash_html_components as html\n",
    "\n",
    "# select css stylesheet\n",
    "external_stylesheets = ['https://codepen.io/chriddyp/pen/bWLwgP.css']\n",
    "\n",
    "# initiate dash app\n",
    "app = dash.Dash(__name__, external_stylesheets=external_stylesheets)\n",
    "\n",
    "# define app layout\n",
    "app.layout = html.Div([\n",
    "    html.H1('Hello, PyDay!'),\n",
    "    html.Div([\n",
    "        html.P('Let\\'s start learning about Dash HTML components by using some of them.'),\n",
    "        html.P('Dash converts Python classes into HTML.'),\n",
    "        html.P('So far we have used 5 HTML components: '),\n",
    "        html.Ul([\n",
    "            html.Li('H1 to create heading 1 tag'),\n",
    "            html.Li('Div to create a <div> tag with group of elements'),\n",
    "            html.Li('P to create <p> tags with paragraphs of text'),\n",
    "            html.Li('Ul to create <ul> tags with unordered list'),\n",
    "            html.Li('Li for listing each bullet point of the list')\n",
    "        ])\n",
    "    ])\n",
    "])\n",
    "\n",
    "# run dash app\n",
    "if __name__ == '__main__':\n",
    "    app.run_server(debug=True)"
   ]
  },
  {
   "cell_type": "code",
   "execution_count": 2,
   "metadata": {},
   "outputs": [],
   "source": [
    "#%run html_component.py"
   ]
  },
  {
   "cell_type": "markdown",
   "metadata": {},
   "source": [
    "Dash also supports Markdown, so as for the blocks of texts like in the example above we can re-write them using Dash core markdown component. "
   ]
  },
  {
   "cell_type": "code",
   "execution_count": 3,
   "metadata": {},
   "outputs": [
    {
     "name": "stdout",
     "output_type": "stream",
     "text": [
      "Writing md_component.py\n"
     ]
    }
   ],
   "source": [
    "%%writefile md_component.py\n",
    "#static markdown example\n",
    "\n",
    "# import necessary libraries\n",
    "import dash\n",
    "import dash_core_components as dcc\n",
    "\n",
    "# select css stylesheet\n",
    "external_stylesheets = ['https://codepen.io/chriddyp/pen/bWLwgP.css']\n",
    "\n",
    "# initiate dash app\n",
    "app = dash.Dash(__name__, external_stylesheets=external_stylesheets)\n",
    "\n",
    "# define app layout\n",
    "app.layout = dcc.Markdown('''\n",
    "# Hello, PyDay!\n",
    "We can write the same text as in the past example in Markdown: \n",
    "\n",
    "Let's start learning about Dash HTML components by using some of them.\n",
    "\n",
    "Dash converts Python classes into HTML.\n",
    "\n",
    "So far we have used **5 HTML components**:\n",
    "- H1 to create heading 1 tag\n",
    "- Div to create a `<div>` tag with group of elements\n",
    "- P to create `<p>` tags with paragraphs of text\n",
    "- Ul to create `<ul>` tags with unordered list\n",
    "- Li for listing each bullet point of the list\n",
    "''')\n",
    "\n",
    "# run dash app\n",
    "if __name__ == '__main__':\n",
    "    app.run_server(debug=True)"
   ]
  },
  {
   "cell_type": "code",
   "execution_count": 4,
   "metadata": {},
   "outputs": [],
   "source": [
    "#%run md_component.py"
   ]
  },
  {
   "cell_type": "markdown",
   "metadata": {},
   "source": [
    "Let's add some other Dash core components, such as graphs and dropdowns."
   ]
  },
  {
   "cell_type": "code",
   "execution_count": 5,
   "metadata": {},
   "outputs": [
    {
     "name": "stdout",
     "output_type": "stream",
     "text": [
      "Writing dropdown.py\n"
     ]
    }
   ],
   "source": [
    "%%writefile dropdown.py\n",
    "\n",
    "# import necessary libraries\n",
    "import dash\n",
    "import dash_html_components as html\n",
    "import dash_core_components as dcc\n",
    "import pandas as pd\n",
    "\n",
    "# select css stylesheet\n",
    "external_stylesheets = ['https://codepen.io/chriddyp/pen/bWLwgP.css']\n",
    "\n",
    "# load the dataset\n",
    "df = pd.read_csv('df_per_cap.csv')\n",
    "\n",
    "# get the list of available countries for dropdown\n",
    "available_countries = df.LOCATION.sort_values().unique()\n",
    "\n",
    "# initiate dash app\n",
    "app = dash.Dash(__name__, external_stylesheets=external_stylesheets)\n",
    "\n",
    "# define app layout\n",
    "app.layout = html.Div([\n",
    "    html.H1('Meat Consumption'),\n",
    "    dcc.Dropdown(\n",
    "            id='countries-dropdown',\n",
    "            options=[{'label': i, 'value': i} for i in available_countries],\n",
    "            placeholder='Select country'\n",
    "        )\n",
    "])\n",
    "\n",
    "# run dash app\n",
    "if __name__ == '__main__':\n",
    "    app.run_server(debug=True)"
   ]
  },
  {
   "cell_type": "code",
   "execution_count": 6,
   "metadata": {},
   "outputs": [],
   "source": [
    "#%run dropdown.py"
   ]
  },
  {
   "cell_type": "code",
   "execution_count": 7,
   "metadata": {},
   "outputs": [
    {
     "name": "stdout",
     "output_type": "stream",
     "text": [
      "Writing total_line.py\n"
     ]
    }
   ],
   "source": [
    "%%writefile total_line.py\n",
    "\n",
    "# import necessary libraries\n",
    "import dash\n",
    "import dash_html_components as html\n",
    "import dash_core_components as dcc\n",
    "import pandas as pd\n",
    "import plotly.graph_objs as go\n",
    "\n",
    "# select css stylesheet\n",
    "external_stylesheets = ['https://codepen.io/chriddyp/pen/bWLwgP.css']\n",
    "\n",
    "# load the dataset and group by year\n",
    "df = pd.read_csv('df_total.csv')\n",
    "df_year = df.groupby('TIME').Value.sum().reset_index()\n",
    "\n",
    "# get the list of available countries for dropdown\n",
    "available_countries = df.LOCATION.sort_values().unique()\n",
    "\n",
    "# initiate dash app\n",
    "app = dash.Dash(__name__, external_stylesheets=external_stylesheets)\n",
    "\n",
    "# define app layout\n",
    "app.layout = html.Div([\n",
    "    html.H1('Meat Consumption'),\n",
    "    dcc.Dropdown(\n",
    "            id='country-dropdown',\n",
    "            options=[{'label': i, 'value': i} for i in available_countries],\n",
    "            placeholder='Select a country'\n",
    "        ),\n",
    "      dcc.Graph(\n",
    "        id='total-line',\n",
    "        figure={\n",
    "            'data': [\n",
    "                go.Scatter(\n",
    "                    x=df_year.TIME,\n",
    "                    y=df_year.Value,\n",
    "                    mode='lines'\n",
    "                )\n",
    "            ],\n",
    "            'layout': go.Layout(\n",
    "                title=dict(text='Total Meat Consumption Evolution'),\n",
    "                xaxis=dict(title='Year'),\n",
    "                yaxis=dict(title='Meat Consumption, thousand tonnes')\n",
    "            )\n",
    "        }\n",
    "     )\n",
    "])\n",
    "\n",
    "# run dash app\n",
    "if __name__ == '__main__':\n",
    "    app.run_server(debug=True)"
   ]
  },
  {
   "cell_type": "code",
   "execution_count": 8,
   "metadata": {},
   "outputs": [],
   "source": [
    "#%run total_line.py"
   ]
  },
  {
   "cell_type": "markdown",
   "metadata": {},
   "source": [
    "## Dash App Callbacks: adding interactivity\n",
    "\n",
    "Once we have defined the layout of the app, it's time for the fun part: adding interactivity! \n",
    "\n",
    "If our app was a flat, the **App Layout** would correspond to defining each room purpose and where all the furniture goes: \n",
    "\n",
    "![layout](pics/app_layout.jpg)\n",
    "\n",
    "**Callabcks** part would correspond to making sure the flat actually works as expected: the lights go on and off, the heating is working if switched on, the water is running if we turn the tap on. \n",
    "\n",
    "![callbacks](pics/homer.gif)\n",
    "\n",
    "In order to add interactivity, we will import Input and Output from `dash.dependencies`."
   ]
  },
  {
   "cell_type": "code",
   "execution_count": 1,
   "metadata": {},
   "outputs": [
    {
     "name": "stdout",
     "output_type": "stream",
     "text": [
      "Overwriting total_line.py\n"
     ]
    }
   ],
   "source": [
    "%%writefile total_line.py\n",
    "\n",
    "# import necessary libraries\n",
    "import dash\n",
    "import dash_html_components as html\n",
    "import dash_core_components as dcc\n",
    "import pandas as pd\n",
    "import plotly.express as px\n",
    "from dash.dependencies import Input, Output\n",
    "\n",
    "# select css stylesheet\n",
    "external_stylesheets = ['https://codepen.io/chriddyp/pen/bWLwgP.css']\n",
    "\n",
    "# load the dataset \n",
    "df = pd.read_csv('df_per_cap.csv')\n",
    "\n",
    "# get the list of available countries for dropdown\n",
    "available_countries = df.LOCATION.sort_values().unique()\n",
    "\n",
    "# initiate dash app\n",
    "app = dash.Dash(__name__, external_stylesheets=external_stylesheets)\n",
    "\n",
    "# define app layout\n",
    "app.layout = html.Div([\n",
    "    html.H1('Meat Consumption'),\n",
    "    dcc.Dropdown(\n",
    "            id='country-dropdown',\n",
    "            options=[{'label': i, 'value': i} for i in available_countries],\n",
    "            placeholder='Select a country',\n",
    "            value='EU27'\n",
    "        ),\n",
    "      dcc.Graph(id='total-line')\n",
    "])\n",
    "\n",
    "# define inputs and outputs\n",
    "@app.callback(\n",
    "    Output('total-line', 'figure'),\n",
    "    [Input('country-dropdown', 'value')])\n",
    "\n",
    "# define function to update graph depending on selected country from the dropdown\n",
    "def update_graph(country):\n",
    "    if country:\n",
    "        dff = df[df.LOCATION == country]\n",
    "    else: \n",
    "        dff = df\n",
    "    dff_year = dff.groupby('TIME').Value.sum().reset_index()\n",
    "    \n",
    "    fig = px.line(dff_year, x=\"TIME\", y=\"Value\", title='Meat Consumption Evolution')\n",
    "    fig = fig.update_layout(xaxis_title='Year', yaxis_title='Meat consumption, kg per capita')\n",
    "    \n",
    "    return fig\n",
    "\n",
    "\n",
    "# run dash app\n",
    "if __name__ == '__main__':\n",
    "    app.run_server(debug=True)"
   ]
  },
  {
   "cell_type": "code",
   "execution_count": null,
   "metadata": {},
   "outputs": [],
   "source": [
    "#%run total_line.py"
   ]
  },
  {
   "cell_type": "code",
   "execution_count": 4,
   "metadata": {},
   "outputs": [
    {
     "name": "stdout",
     "output_type": "stream",
     "text": [
      "Overwriting total_line_and_map.py\n"
     ]
    }
   ],
   "source": [
    "%%writefile total_line_and_map.py\n",
    "\n",
    "# import necessary libraries\n",
    "import dash\n",
    "import dash_html_components as html\n",
    "import dash_core_components as dcc\n",
    "import pandas as pd\n",
    "import plotly.express as px\n",
    "from dash.dependencies import Input, Output\n",
    "\n",
    "# select css stylesheet\n",
    "external_stylesheets = ['https://codepen.io/chriddyp/pen/bWLwgP.css']\n",
    "\n",
    "# load the dataset \n",
    "df = pd.read_csv('df_per_cap.csv')\n",
    "\n",
    "# get the list of available countries for dropdown\n",
    "available_countries = df.LOCATION.sort_values().unique()\n",
    "\n",
    "# initiate dash app\n",
    "app = dash.Dash(__name__, external_stylesheets=external_stylesheets)\n",
    "\n",
    "# define app layout\n",
    "app.layout = html.Div([\n",
    "    html.H1('Meat Consumption', style={'margin-left': 20, 'margin-right': 20}),\n",
    "    \n",
    "    html.Div([\n",
    "        html.Div([\n",
    "            dcc.Dropdown(\n",
    "                id='country-dropdown',\n",
    "                options=[{'label': i, 'value': i} for i in available_countries],\n",
    "                placeholder='Select a country',\n",
    "                value='EU27'\n",
    "            )\n",
    "        ], style={'width': '48%', 'display': 'inline-block'}),\n",
    "\n",
    "        html.Div([\n",
    "            dcc.Slider(\n",
    "                id='year-slider',\n",
    "                min=df['TIME'].min(),\n",
    "                max=df['TIME'].max(),\n",
    "                value=df['TIME'].max(),\n",
    "                marks={str(year): str(year) for year in df['TIME'].unique()}\n",
    "            )\n",
    "        ], style={'width': '48%', 'float': 'right', 'display': 'inline-block'})\n",
    "        \n",
    "    ], style={'margin-left': 20, 'margin-right': 20}),\n",
    "    \n",
    "    html.Div([\n",
    "        html.Div([\n",
    "            dcc.Graph(id='total-line')\n",
    "        ], style={'width': '48%', 'display': 'inline-block'}),\n",
    "        \n",
    "        html.Div([\n",
    "            dcc.Graph(id='country-map')\n",
    "        ], style={'width': '48%', 'float': 'right', 'display': 'inline-block'})\n",
    "    ])\n",
    "    \n",
    "])\n",
    "\n",
    "# define inputs and outputs\n",
    "@app.callback(\n",
    "    Output('total-line', 'figure'),\n",
    "    [Input('country-dropdown', 'value')])\n",
    "\n",
    "# define function to update line chart depending on selected country from the dropdown\n",
    "def update_line_chart(country):\n",
    "    if country:\n",
    "        dff = df[df.LOCATION == country]\n",
    "        dff_year = dff.groupby('TIME').Value.sum().reset_index()\n",
    "    else: \n",
    "        dff = df\n",
    "        dff_year = dff.groupby('TIME').mean.sum().reset_index()\n",
    "        \n",
    "    fig = px.line(dff_year, x='TIME', y='Value', title='Meat Consumption Evolution')\n",
    "    fig = fig.update_layout(xaxis_title='Year', yaxis_title='Meat consumption, kg per capita')\n",
    "    return fig\n",
    "\n",
    "# define inputs and outputs\n",
    "@app.callback(\n",
    "    Output('country-map', 'figure'),\n",
    "    [Input('year-slider', 'value')])\n",
    "\n",
    "# define function to update map depending on selected year from the slider\n",
    "def update_map(year):\n",
    "    dff = df[df.TIME == year]\n",
    "    dff_country = dff.groupby('LOCATION').Value.sum().reset_index()\n",
    "    \n",
    "    fig = px.choropleth(dff_country, \n",
    "                   locations=\"LOCATION\", \n",
    "                   color=\"Value\",\n",
    "                   labels={'Value':'Kg per capita'},\n",
    "                   title='Meat Consumption per Capita, 2018',\n",
    "                   color_continuous_scale=px.colors.sequential.OrRd)\n",
    "    fig = fig.update_layout(geo=dict(showframe=False))\n",
    "    return fig\n",
    "\n",
    "# run dash app\n",
    "if __name__ == '__main__':\n",
    "    app.run_server(debug=True)"
   ]
  },
  {
   "cell_type": "code",
   "execution_count": 2,
   "metadata": {},
   "outputs": [],
   "source": [
    "#%run total_line_and_map.py"
   ]
  },
  {
   "cell_type": "markdown",
   "metadata": {},
   "source": [
    "## PRACTICE TIME\n",
    "\n",
    "Create a Dash dashboard answering the following questions: \n",
    "\n",
    "- What is the trend of total meat consumptrion per capita over years for each country?\n",
    "- What is the trend of consumption of each type of meat per capita over years for each country?\n",
    "- Which countries consume the most and the least amount of meat per capita, given a specific year (and meat type)?\n",
    "- Is there any relationship between meat consumption per capita and GDP per capita?"
   ]
  },
  {
   "cell_type": "code",
   "execution_count": null,
   "metadata": {},
   "outputs": [],
   "source": []
  }
 ],
 "metadata": {
  "kernelspec": {
   "display_name": "Dash v2",
   "language": "python",
   "name": "dash"
  },
  "language_info": {
   "codemirror_mode": {
    "name": "ipython",
    "version": 3
   },
   "file_extension": ".py",
   "mimetype": "text/x-python",
   "name": "python",
   "nbconvert_exporter": "python",
   "pygments_lexer": "ipython3",
   "version": "3.7.4"
  }
 },
 "nbformat": 4,
 "nbformat_minor": 2
}
