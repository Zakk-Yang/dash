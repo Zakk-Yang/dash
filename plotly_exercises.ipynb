{
 "cells": [
  {
   "cell_type": "markdown",
   "metadata": {},
   "source": [
    "# Introduction to Plotly\n",
    "\n",
    "Let's start by importing the necessary libraries. \n",
    "\n",
    "Plotly can be used in offline and online modes. When in online mode, all the graphs you create will be saved in your Plotly account online. But there is a limit of graphs you can create for free, so you either have to constantly delete your graphs from your account or pay. \n",
    "\n",
    "The good news is that you can use offline mode where your graphs are only displayed in your Jupyter Notebook and are not saved online. There are no limitations as to the number of graphs you can create in offline mode. \n",
    "\n",
    "**Note:** apparently starting from plotly version 4.0 released in July 2019, the offline mode is used by default, and the online functionality is moved to a separate package called `chart-studio` (more on Plotly version 4.0 [here](https://medium.com/plotly/plotly-py-4-0-is-here-offline-only-express-first-displayable-anywhere-fc444e5659ee)). So depending on the Plotly version you have, you might not need to specify that you want to use offline mode explicitly."
   ]
  },
  {
   "cell_type": "code",
   "execution_count": 1,
   "metadata": {},
   "outputs": [
    {
     "data": {
      "text/html": [
       "        <script type=\"text/javascript\">\n",
       "        window.PlotlyConfig = {MathJaxConfig: 'local'};\n",
       "        if (window.MathJax) {MathJax.Hub.Config({SVG: {font: \"STIX-Web\"}});}\n",
       "        if (typeof require !== 'undefined') {\n",
       "        require.undef(\"plotly\");\n",
       "        requirejs.config({\n",
       "            paths: {\n",
       "                'plotly': ['https://cdn.plot.ly/plotly-latest.min']\n",
       "            }\n",
       "        });\n",
       "        require(['plotly'], function(Plotly) {\n",
       "            window._Plotly = Plotly;\n",
       "        });\n",
       "        }\n",
       "        </script>\n",
       "        "
      ]
     },
     "metadata": {},
     "output_type": "display_data"
    },
    {
     "data": {
      "text/html": [
       "        <script type=\"text/javascript\">\n",
       "        window.PlotlyConfig = {MathJaxConfig: 'local'};\n",
       "        if (window.MathJax) {MathJax.Hub.Config({SVG: {font: \"STIX-Web\"}});}\n",
       "        if (typeof require !== 'undefined') {\n",
       "        require.undef(\"plotly\");\n",
       "        requirejs.config({\n",
       "            paths: {\n",
       "                'plotly': ['https://cdn.plot.ly/plotly-latest.min']\n",
       "            }\n",
       "        });\n",
       "        require(['plotly'], function(Plotly) {\n",
       "            window._Plotly = Plotly;\n",
       "        });\n",
       "        }\n",
       "        </script>\n",
       "        "
      ]
     },
     "metadata": {},
     "output_type": "display_data"
    }
   ],
   "source": [
    "# pandas and numpy to work with datasets\n",
    "import pandas as pd\n",
    "import numpy as np\n",
    "\n",
    "# plotly imports for Plotly visualizations\n",
    "import plotly.plotly as py\n",
    "import plotly.graph_objs as go\n",
    "# inititate Plotly offline mode\n",
    "from plotly.offline import iplot, init_notebook_mode\n",
    "init_notebook_mode(connected=True)\n",
    "\n",
    "# cufflinks to create Plotly viz with simplified syntax\n",
    "import cufflinks as cf\n",
    "# inititate cufflinks offline mode\n",
    "cf.go_offline(connected=True)"
   ]
  },
  {
   "cell_type": "markdown",
   "metadata": {},
   "source": [
    "## Dataset exploration\n",
    "\n",
    "We will use data about OECD countries meat consumption from [Data World](https://data.world/oecd/meat-consumption). \n",
    "\n",
    "\n",
    "**Summary** \n",
    "\n",
    "Meat consumption is related to living standards, diet, livestock production and consumer prices, as well as macroeconomic uncertainty and shocks to GDP. Compared to other commodities, meat is characterised by high production costs and high output prices. Meat demand is associated with higher incomes and a shift - due to urbanisation - to food consumption changes that favour increased proteins from animal sources in diets. While the global meat industry provides food and a livelihood for billions of people, it also has significant environmental and health consequences for the planet. This indicator is presented for beef and veal, pig, poultry, and sheep. Meat consumption is measured in thousand tonnes of carcass weight (except for poultry expressed as ready to cook weight) and in kilograms of retail weight per capita. Carcass weight to retail weight conversion factors are: 0.7 for beef and veal, 0.78 for pigmeat, and 0.88 for both sheep meat and poultry meat.\n",
    "\n"
   ]
  },
  {
   "cell_type": "code",
   "execution_count": 2,
   "metadata": {},
   "outputs": [],
   "source": [
    "# loading dataset into pandas dataframe\n",
    "df = pd.read_csv('meat_consumption_clean.csv')"
   ]
  },
  {
   "cell_type": "code",
   "execution_count": 3,
   "metadata": {},
   "outputs": [
    {
     "data": {
      "text/html": [
       "<div>\n",
       "<style scoped>\n",
       "    .dataframe tbody tr th:only-of-type {\n",
       "        vertical-align: middle;\n",
       "    }\n",
       "\n",
       "    .dataframe tbody tr th {\n",
       "        vertical-align: top;\n",
       "    }\n",
       "\n",
       "    .dataframe thead th {\n",
       "        text-align: right;\n",
       "    }\n",
       "</style>\n",
       "<table border=\"1\" class=\"dataframe\">\n",
       "  <thead>\n",
       "    <tr style=\"text-align: right;\">\n",
       "      <th></th>\n",
       "      <th>LOCATION</th>\n",
       "      <th>INDICATOR</th>\n",
       "      <th>SUBJECT</th>\n",
       "      <th>MEASURE</th>\n",
       "      <th>FREQUENCY</th>\n",
       "      <th>TIME</th>\n",
       "      <th>Value</th>\n",
       "      <th>Flag Codes</th>\n",
       "    </tr>\n",
       "  </thead>\n",
       "  <tbody>\n",
       "    <tr>\n",
       "      <td>0</td>\n",
       "      <td>AUS</td>\n",
       "      <td>MEATCONSUMP</td>\n",
       "      <td>BEEF</td>\n",
       "      <td>KG_CAP</td>\n",
       "      <td>A</td>\n",
       "      <td>1990</td>\n",
       "      <td>0.000004</td>\n",
       "      <td>NaN</td>\n",
       "    </tr>\n",
       "    <tr>\n",
       "      <td>1</td>\n",
       "      <td>AUS</td>\n",
       "      <td>MEATCONSUMP</td>\n",
       "      <td>BEEF</td>\n",
       "      <td>KG_CAP</td>\n",
       "      <td>A</td>\n",
       "      <td>1991</td>\n",
       "      <td>27.808401</td>\n",
       "      <td>NaN</td>\n",
       "    </tr>\n",
       "    <tr>\n",
       "      <td>2</td>\n",
       "      <td>AUS</td>\n",
       "      <td>MEATCONSUMP</td>\n",
       "      <td>BEEF</td>\n",
       "      <td>KG_CAP</td>\n",
       "      <td>A</td>\n",
       "      <td>1992</td>\n",
       "      <td>26.278166</td>\n",
       "      <td>NaN</td>\n",
       "    </tr>\n",
       "    <tr>\n",
       "      <td>3</td>\n",
       "      <td>AUS</td>\n",
       "      <td>MEATCONSUMP</td>\n",
       "      <td>BEEF</td>\n",
       "      <td>KG_CAP</td>\n",
       "      <td>A</td>\n",
       "      <td>1993</td>\n",
       "      <td>26.244478</td>\n",
       "      <td>NaN</td>\n",
       "    </tr>\n",
       "    <tr>\n",
       "      <td>4</td>\n",
       "      <td>AUS</td>\n",
       "      <td>MEATCONSUMP</td>\n",
       "      <td>BEEF</td>\n",
       "      <td>KG_CAP</td>\n",
       "      <td>A</td>\n",
       "      <td>1994</td>\n",
       "      <td>25.541244</td>\n",
       "      <td>NaN</td>\n",
       "    </tr>\n",
       "  </tbody>\n",
       "</table>\n",
       "</div>"
      ],
      "text/plain": [
       "  LOCATION    INDICATOR SUBJECT MEASURE FREQUENCY  TIME      Value  Flag Codes\n",
       "0      AUS  MEATCONSUMP    BEEF  KG_CAP         A  1990   0.000004         NaN\n",
       "1      AUS  MEATCONSUMP    BEEF  KG_CAP         A  1991  27.808401         NaN\n",
       "2      AUS  MEATCONSUMP    BEEF  KG_CAP         A  1992  26.278166         NaN\n",
       "3      AUS  MEATCONSUMP    BEEF  KG_CAP         A  1993  26.244478         NaN\n",
       "4      AUS  MEATCONSUMP    BEEF  KG_CAP         A  1994  25.541244         NaN"
      ]
     },
     "execution_count": 3,
     "metadata": {},
     "output_type": "execute_result"
    }
   ],
   "source": [
    "# print out first 5 rows of the dataset\n",
    "df.head()"
   ]
  },
  {
   "cell_type": "code",
   "execution_count": 4,
   "metadata": {},
   "outputs": [
    {
     "data": {
      "text/plain": [
       "(9020, 8)"
      ]
     },
     "execution_count": 4,
     "metadata": {},
     "output_type": "execute_result"
    }
   ],
   "source": [
    "# get the number of rows and columns in the dataset\n",
    "df.shape"
   ]
  },
  {
   "cell_type": "code",
   "execution_count": 5,
   "metadata": {},
   "outputs": [
    {
     "data": {
      "text/html": [
       "<div>\n",
       "<style scoped>\n",
       "    .dataframe tbody tr th:only-of-type {\n",
       "        vertical-align: middle;\n",
       "    }\n",
       "\n",
       "    .dataframe tbody tr th {\n",
       "        vertical-align: top;\n",
       "    }\n",
       "\n",
       "    .dataframe thead th {\n",
       "        text-align: right;\n",
       "    }\n",
       "</style>\n",
       "<table border=\"1\" class=\"dataframe\">\n",
       "  <thead>\n",
       "    <tr style=\"text-align: right;\">\n",
       "      <th></th>\n",
       "      <th>LOCATION</th>\n",
       "      <th>INDICATOR</th>\n",
       "      <th>SUBJECT</th>\n",
       "      <th>MEASURE</th>\n",
       "      <th>FREQUENCY</th>\n",
       "      <th>TIME</th>\n",
       "      <th>Value</th>\n",
       "      <th>Flag Codes</th>\n",
       "    </tr>\n",
       "  </thead>\n",
       "  <tbody>\n",
       "    <tr>\n",
       "      <td>count</td>\n",
       "      <td>9020</td>\n",
       "      <td>9020</td>\n",
       "      <td>9020</td>\n",
       "      <td>9020</td>\n",
       "      <td>9020</td>\n",
       "      <td>9020.000000</td>\n",
       "      <td>9.020000e+03</td>\n",
       "      <td>0.0</td>\n",
       "    </tr>\n",
       "    <tr>\n",
       "      <td>unique</td>\n",
       "      <td>39</td>\n",
       "      <td>1</td>\n",
       "      <td>4</td>\n",
       "      <td>2</td>\n",
       "      <td>1</td>\n",
       "      <td>NaN</td>\n",
       "      <td>NaN</td>\n",
       "      <td>NaN</td>\n",
       "    </tr>\n",
       "    <tr>\n",
       "      <td>top</td>\n",
       "      <td>NGA</td>\n",
       "      <td>MEATCONSUMP</td>\n",
       "      <td>POULTRY</td>\n",
       "      <td>THND_TONNE</td>\n",
       "      <td>A</td>\n",
       "      <td>NaN</td>\n",
       "      <td>NaN</td>\n",
       "      <td>NaN</td>\n",
       "    </tr>\n",
       "    <tr>\n",
       "      <td>freq</td>\n",
       "      <td>232</td>\n",
       "      <td>9020</td>\n",
       "      <td>2255</td>\n",
       "      <td>4524</td>\n",
       "      <td>9020</td>\n",
       "      <td>NaN</td>\n",
       "      <td>NaN</td>\n",
       "      <td>NaN</td>\n",
       "    </tr>\n",
       "    <tr>\n",
       "      <td>mean</td>\n",
       "      <td>NaN</td>\n",
       "      <td>NaN</td>\n",
       "      <td>NaN</td>\n",
       "      <td>NaN</td>\n",
       "      <td>NaN</td>\n",
       "      <td>2004.041242</td>\n",
       "      <td>2.014624e+03</td>\n",
       "      <td>NaN</td>\n",
       "    </tr>\n",
       "    <tr>\n",
       "      <td>std</td>\n",
       "      <td>NaN</td>\n",
       "      <td>NaN</td>\n",
       "      <td>NaN</td>\n",
       "      <td>NaN</td>\n",
       "      <td>NaN</td>\n",
       "      <td>8.347088</td>\n",
       "      <td>9.320713e+03</td>\n",
       "      <td>NaN</td>\n",
       "    </tr>\n",
       "    <tr>\n",
       "      <td>min</td>\n",
       "      <td>NaN</td>\n",
       "      <td>NaN</td>\n",
       "      <td>NaN</td>\n",
       "      <td>NaN</td>\n",
       "      <td>NaN</td>\n",
       "      <td>1990.000000</td>\n",
       "      <td>7.505681e-08</td>\n",
       "      <td>NaN</td>\n",
       "    </tr>\n",
       "    <tr>\n",
       "      <td>25%</td>\n",
       "      <td>NaN</td>\n",
       "      <td>NaN</td>\n",
       "      <td>NaN</td>\n",
       "      <td>NaN</td>\n",
       "      <td>NaN</td>\n",
       "      <td>1997.000000</td>\n",
       "      <td>4.567496e+00</td>\n",
       "      <td>NaN</td>\n",
       "    </tr>\n",
       "    <tr>\n",
       "      <td>50%</td>\n",
       "      <td>NaN</td>\n",
       "      <td>NaN</td>\n",
       "      <td>NaN</td>\n",
       "      <td>NaN</td>\n",
       "      <td>NaN</td>\n",
       "      <td>2004.000000</td>\n",
       "      <td>2.325614e+01</td>\n",
       "      <td>NaN</td>\n",
       "    </tr>\n",
       "    <tr>\n",
       "      <td>75%</td>\n",
       "      <td>NaN</td>\n",
       "      <td>NaN</td>\n",
       "      <td>NaN</td>\n",
       "      <td>NaN</td>\n",
       "      <td>NaN</td>\n",
       "      <td>2011.000000</td>\n",
       "      <td>3.916184e+02</td>\n",
       "      <td>NaN</td>\n",
       "    </tr>\n",
       "    <tr>\n",
       "      <td>max</td>\n",
       "      <td>NaN</td>\n",
       "      <td>NaN</td>\n",
       "      <td>NaN</td>\n",
       "      <td>NaN</td>\n",
       "      <td>NaN</td>\n",
       "      <td>2018.000000</td>\n",
       "      <td>1.221729e+05</td>\n",
       "      <td>NaN</td>\n",
       "    </tr>\n",
       "  </tbody>\n",
       "</table>\n",
       "</div>"
      ],
      "text/plain": [
       "       LOCATION    INDICATOR  SUBJECT     MEASURE FREQUENCY         TIME  \\\n",
       "count      9020         9020     9020        9020      9020  9020.000000   \n",
       "unique       39            1        4           2         1          NaN   \n",
       "top         NGA  MEATCONSUMP  POULTRY  THND_TONNE         A          NaN   \n",
       "freq        232         9020     2255        4524      9020          NaN   \n",
       "mean        NaN          NaN      NaN         NaN       NaN  2004.041242   \n",
       "std         NaN          NaN      NaN         NaN       NaN     8.347088   \n",
       "min         NaN          NaN      NaN         NaN       NaN  1990.000000   \n",
       "25%         NaN          NaN      NaN         NaN       NaN  1997.000000   \n",
       "50%         NaN          NaN      NaN         NaN       NaN  2004.000000   \n",
       "75%         NaN          NaN      NaN         NaN       NaN  2011.000000   \n",
       "max         NaN          NaN      NaN         NaN       NaN  2018.000000   \n",
       "\n",
       "               Value  Flag Codes  \n",
       "count   9.020000e+03         0.0  \n",
       "unique           NaN         NaN  \n",
       "top              NaN         NaN  \n",
       "freq             NaN         NaN  \n",
       "mean    2.014624e+03         NaN  \n",
       "std     9.320713e+03         NaN  \n",
       "min     7.505681e-08         NaN  \n",
       "25%     4.567496e+00         NaN  \n",
       "50%     2.325614e+01         NaN  \n",
       "75%     3.916184e+02         NaN  \n",
       "max     1.221729e+05         NaN  "
      ]
     },
     "execution_count": 5,
     "metadata": {},
     "output_type": "execute_result"
    }
   ],
   "source": [
    "# get a sense of values in each column of the dataset\n",
    "df.describe(include='all')"
   ]
  },
  {
   "cell_type": "code",
   "execution_count": 6,
   "metadata": {},
   "outputs": [
    {
     "data": {
      "text/plain": [
       "array(['AUS', 'CAN', 'JPN', 'KOR', 'MEX', 'NZL', 'TUR', 'USA', 'ARG',\n",
       "       'BRA', 'CHL', 'CHN', 'COL', 'EGY', 'ETH', 'IND', 'IDN', 'IRN',\n",
       "       'ISR', 'KAZ', 'MYS', 'NGA', 'PAK', 'PRY', 'PER', 'PHL', 'RUS',\n",
       "       'SAU', 'ZAF', 'THA', 'UKR', 'VNM', 'WLD', 'EU27', 'OECD', 'BRICS',\n",
       "       'NOR', 'CHE', 'GBR'], dtype=object)"
      ]
     },
     "execution_count": 6,
     "metadata": {},
     "output_type": "execute_result"
    }
   ],
   "source": [
    "# get the list of unique countries\n",
    "df.LOCATION.unique()"
   ]
  },
  {
   "cell_type": "code",
   "execution_count": 7,
   "metadata": {},
   "outputs": [
    {
     "data": {
      "text/plain": [
       "array(['BEEF', 'PIG', 'POULTRY', 'SHEEP'], dtype=object)"
      ]
     },
     "execution_count": 7,
     "metadata": {},
     "output_type": "execute_result"
    }
   ],
   "source": [
    "# get the list of unique meat types\n",
    "df.SUBJECT.unique()"
   ]
  },
  {
   "cell_type": "code",
   "execution_count": 8,
   "metadata": {},
   "outputs": [
    {
     "data": {
      "text/plain": [
       "array(['KG_CAP', 'THND_TONNE'], dtype=object)"
      ]
     },
     "execution_count": 8,
     "metadata": {},
     "output_type": "execute_result"
    }
   ],
   "source": [
    "# get the list of unique measures\n",
    "df.MEASURE.unique()"
   ]
  },
  {
   "cell_type": "markdown",
   "metadata": {},
   "source": [
    "Since there are 2 different measures of meat consumption in this dataset, let's separate it into 2 datasets: \n",
    "\n",
    "- `df_total` with total meat consumption in thousand tonnes of carcass weight\n",
    "- `df_per_cap` with meat consumption measured in kilogramms per capita of retail weight"
   ]
  },
  {
   "cell_type": "code",
   "execution_count": 9,
   "metadata": {},
   "outputs": [],
   "source": [
    "# split the dataset into 2 based on the measure\n",
    "df_total =  df.query('MEASURE == \"THND_TONNE\"')\n",
    "df_per_cap = df.query('MEASURE == \"KG_CAP\"')"
   ]
  },
  {
   "cell_type": "markdown",
   "metadata": {},
   "source": [
    "## Building graphs with Plotly\n",
    "\n",
    "The native syntax of Plotly includes 3 main components: \n",
    "\n",
    "- **Data**\n",
    "\n",
    "The Data object defines the data that will be displayed in the graph. \n",
    "\n",
    "- **Layout**\n",
    "\n",
    "The Layout object defines all additional features of the graph, like title, axis titles, etc. \n",
    "\n",
    "- **Figure** \n",
    "\n",
    "The Figure object brings together the Data and the Layout and creates the graph to be plotted. \n",
    "\n",
    "\n",
    "You can find full Plotly documentation for Python [here](https://plot.ly/python/).\n",
    "\n",
    "Let's start by building a simple line chart summarizing the evolution of total meat consumption by year."
   ]
  },
  {
   "cell_type": "code",
   "execution_count": 10,
   "metadata": {},
   "outputs": [
    {
     "data": {
      "text/html": [
       "<div>\n",
       "<style scoped>\n",
       "    .dataframe tbody tr th:only-of-type {\n",
       "        vertical-align: middle;\n",
       "    }\n",
       "\n",
       "    .dataframe tbody tr th {\n",
       "        vertical-align: top;\n",
       "    }\n",
       "\n",
       "    .dataframe thead th {\n",
       "        text-align: right;\n",
       "    }\n",
       "</style>\n",
       "<table border=\"1\" class=\"dataframe\">\n",
       "  <thead>\n",
       "    <tr style=\"text-align: right;\">\n",
       "      <th></th>\n",
       "      <th>TIME</th>\n",
       "      <th>Value</th>\n",
       "    </tr>\n",
       "  </thead>\n",
       "  <tbody>\n",
       "    <tr>\n",
       "      <td>0</td>\n",
       "      <td>1990</td>\n",
       "      <td>218203.0</td>\n",
       "    </tr>\n",
       "    <tr>\n",
       "      <td>1</td>\n",
       "      <td>1991</td>\n",
       "      <td>238417.0</td>\n",
       "    </tr>\n",
       "    <tr>\n",
       "      <td>2</td>\n",
       "      <td>1992</td>\n",
       "      <td>260198.0</td>\n",
       "    </tr>\n",
       "    <tr>\n",
       "      <td>3</td>\n",
       "      <td>1993</td>\n",
       "      <td>277449.0</td>\n",
       "    </tr>\n",
       "    <tr>\n",
       "      <td>4</td>\n",
       "      <td>1994</td>\n",
       "      <td>292060.0</td>\n",
       "    </tr>\n",
       "    <tr>\n",
       "      <td>5</td>\n",
       "      <td>1995</td>\n",
       "      <td>302593.0</td>\n",
       "    </tr>\n",
       "    <tr>\n",
       "      <td>6</td>\n",
       "      <td>1996</td>\n",
       "      <td>303447.0</td>\n",
       "    </tr>\n",
       "    <tr>\n",
       "      <td>7</td>\n",
       "      <td>1997</td>\n",
       "      <td>320615.0</td>\n",
       "    </tr>\n",
       "    <tr>\n",
       "      <td>8</td>\n",
       "      <td>1998</td>\n",
       "      <td>332461.0</td>\n",
       "    </tr>\n",
       "    <tr>\n",
       "      <td>9</td>\n",
       "      <td>1999</td>\n",
       "      <td>341410.0</td>\n",
       "    </tr>\n",
       "    <tr>\n",
       "      <td>10</td>\n",
       "      <td>2000</td>\n",
       "      <td>430161.0</td>\n",
       "    </tr>\n",
       "    <tr>\n",
       "      <td>11</td>\n",
       "      <td>2001</td>\n",
       "      <td>438483.0</td>\n",
       "    </tr>\n",
       "    <tr>\n",
       "      <td>12</td>\n",
       "      <td>2002</td>\n",
       "      <td>453547.0</td>\n",
       "    </tr>\n",
       "    <tr>\n",
       "      <td>13</td>\n",
       "      <td>2003</td>\n",
       "      <td>461973.0</td>\n",
       "    </tr>\n",
       "    <tr>\n",
       "      <td>14</td>\n",
       "      <td>2004</td>\n",
       "      <td>469940.0</td>\n",
       "    </tr>\n",
       "    <tr>\n",
       "      <td>15</td>\n",
       "      <td>2005</td>\n",
       "      <td>481864.0</td>\n",
       "    </tr>\n",
       "    <tr>\n",
       "      <td>16</td>\n",
       "      <td>2006</td>\n",
       "      <td>496697.0</td>\n",
       "    </tr>\n",
       "    <tr>\n",
       "      <td>17</td>\n",
       "      <td>2007</td>\n",
       "      <td>506330.0</td>\n",
       "    </tr>\n",
       "    <tr>\n",
       "      <td>18</td>\n",
       "      <td>2008</td>\n",
       "      <td>521975.0</td>\n",
       "    </tr>\n",
       "    <tr>\n",
       "      <td>19</td>\n",
       "      <td>2009</td>\n",
       "      <td>527523.0</td>\n",
       "    </tr>\n",
       "    <tr>\n",
       "      <td>20</td>\n",
       "      <td>2010</td>\n",
       "      <td>544439.0</td>\n",
       "    </tr>\n",
       "    <tr>\n",
       "      <td>21</td>\n",
       "      <td>2011</td>\n",
       "      <td>551565.0</td>\n",
       "    </tr>\n",
       "    <tr>\n",
       "      <td>22</td>\n",
       "      <td>2012</td>\n",
       "      <td>564106.0</td>\n",
       "    </tr>\n",
       "    <tr>\n",
       "      <td>23</td>\n",
       "      <td>2013</td>\n",
       "      <td>576559.0</td>\n",
       "    </tr>\n",
       "    <tr>\n",
       "      <td>24</td>\n",
       "      <td>2014</td>\n",
       "      <td>585890.0</td>\n",
       "    </tr>\n",
       "    <tr>\n",
       "      <td>25</td>\n",
       "      <td>2015</td>\n",
       "      <td>595643.0</td>\n",
       "    </tr>\n",
       "    <tr>\n",
       "      <td>26</td>\n",
       "      <td>2016</td>\n",
       "      <td>603474.0</td>\n",
       "    </tr>\n",
       "    <tr>\n",
       "      <td>27</td>\n",
       "      <td>2017</td>\n",
       "      <td>608799.0</td>\n",
       "    </tr>\n",
       "    <tr>\n",
       "      <td>28</td>\n",
       "      <td>2018</td>\n",
       "      <td>615118.0</td>\n",
       "    </tr>\n",
       "  </tbody>\n",
       "</table>\n",
       "</div>"
      ],
      "text/plain": [
       "    TIME     Value\n",
       "0   1990  218203.0\n",
       "1   1991  238417.0\n",
       "2   1992  260198.0\n",
       "3   1993  277449.0\n",
       "4   1994  292060.0\n",
       "5   1995  302593.0\n",
       "6   1996  303447.0\n",
       "7   1997  320615.0\n",
       "8   1998  332461.0\n",
       "9   1999  341410.0\n",
       "10  2000  430161.0\n",
       "11  2001  438483.0\n",
       "12  2002  453547.0\n",
       "13  2003  461973.0\n",
       "14  2004  469940.0\n",
       "15  2005  481864.0\n",
       "16  2006  496697.0\n",
       "17  2007  506330.0\n",
       "18  2008  521975.0\n",
       "19  2009  527523.0\n",
       "20  2010  544439.0\n",
       "21  2011  551565.0\n",
       "22  2012  564106.0\n",
       "23  2013  576559.0\n",
       "24  2014  585890.0\n",
       "25  2015  595643.0\n",
       "26  2016  603474.0\n",
       "27  2017  608799.0\n",
       "28  2018  615118.0"
      ]
     },
     "execution_count": 10,
     "metadata": {},
     "output_type": "execute_result"
    }
   ],
   "source": [
    "# remove OECD, BRICS\n",
    "df_total_clean =  df_total.query('LOCATION != \"OECD\" & LOCATION != \"BRICS\"')\n",
    "\n",
    "# group by year\n",
    "df_total_year = df_total_clean.groupby('TIME').Value.sum().round(0).reset_index()\n",
    "df_total_year"
   ]
  },
  {
   "cell_type": "code",
   "execution_count": 11,
   "metadata": {},
   "outputs": [],
   "source": [
    "# save the split datasets to csv for further use\n",
    "df_total_clean.to_csv('df_total.csv', index=False)\n",
    "df_per_cap.to_csv('df_per_cap.csv', index=False)"
   ]
  },
  {
   "cell_type": "markdown",
   "metadata": {},
   "source": [
    "This would be the full syntax for defining the figure as one object at once:"
   ]
  },
  {
   "cell_type": "code",
   "execution_count": 12,
   "metadata": {},
   "outputs": [
    {
     "data": {
      "application/vnd.plotly.v1+json": {
       "config": {
        "plotlyServerURL": "https://plot.ly"
       },
       "data": [
        {
         "mode": "lines",
         "type": "scatter",
         "uid": "40d43805-92b4-4d7a-8bc0-ca3df0213295",
         "x": [
          1990,
          1991,
          1992,
          1993,
          1994,
          1995,
          1996,
          1997,
          1998,
          1999,
          2000,
          2001,
          2002,
          2003,
          2004,
          2005,
          2006,
          2007,
          2008,
          2009,
          2010,
          2011,
          2012,
          2013,
          2014,
          2015,
          2016,
          2017,
          2018
         ],
         "y": [
          218203,
          238417,
          260198,
          277449,
          292060,
          302593,
          303447,
          320615,
          332461,
          341410,
          430161,
          438483,
          453547,
          461973,
          469940,
          481864,
          496697,
          506330,
          521975,
          527523,
          544439,
          551565,
          564106,
          576559,
          585890,
          595643,
          603474,
          608799,
          615118
         ]
        }
       ],
       "layout": {
        "title": {
         "text": "Total Meat Consumption Evolution"
        },
        "xaxis": {
         "title": {
          "text": "Year"
         }
        },
        "yaxis": {
         "title": {
          "text": "Meat consumption, thousand tonnes"
         }
        }
       }
      },
      "text/html": [
       "<div>\n",
       "        \n",
       "        \n",
       "            <div id=\"47990d72-1378-4a03-99a2-13cb11f743a6\" class=\"plotly-graph-div\" style=\"height:525px; width:100%;\"></div>\n",
       "            <script type=\"text/javascript\">\n",
       "                require([\"plotly\"], function(Plotly) {\n",
       "                    window.PLOTLYENV=window.PLOTLYENV || {};\n",
       "                    window.PLOTLYENV.BASE_URL='https://plot.ly';\n",
       "                    \n",
       "                if (document.getElementById(\"47990d72-1378-4a03-99a2-13cb11f743a6\")) {\n",
       "                    Plotly.newPlot(\n",
       "                        '47990d72-1378-4a03-99a2-13cb11f743a6',\n",
       "                        [{\"mode\": \"lines\", \"type\": \"scatter\", \"uid\": \"40d43805-92b4-4d7a-8bc0-ca3df0213295\", \"x\": [1990, 1991, 1992, 1993, 1994, 1995, 1996, 1997, 1998, 1999, 2000, 2001, 2002, 2003, 2004, 2005, 2006, 2007, 2008, 2009, 2010, 2011, 2012, 2013, 2014, 2015, 2016, 2017, 2018], \"y\": [218203.0, 238417.0, 260198.0, 277449.0, 292060.0, 302593.0, 303447.0, 320615.0, 332461.0, 341410.0, 430161.0, 438483.0, 453547.0, 461973.0, 469940.0, 481864.0, 496697.0, 506330.0, 521975.0, 527523.0, 544439.0, 551565.0, 564106.0, 576559.0, 585890.0, 595643.0, 603474.0, 608799.0, 615118.0]}],\n",
       "                        {\"title\": {\"text\": \"Total Meat Consumption Evolution\"}, \"xaxis\": {\"title\": {\"text\": \"Year\"}}, \"yaxis\": {\"title\": {\"text\": \"Meat consumption, thousand tonnes\"}}},\n",
       "                        {\"plotlyServerURL\": \"https://plot.ly\", \"responsive\": true}\n",
       "                    ).then(function(){\n",
       "                            \n",
       "var gd = document.getElementById('47990d72-1378-4a03-99a2-13cb11f743a6');\n",
       "var x = new MutationObserver(function (mutations, observer) {{\n",
       "        var display = window.getComputedStyle(gd).display;\n",
       "        if (!display || display === 'none') {{\n",
       "            console.log([gd, 'removed!']);\n",
       "            Plotly.purge(gd);\n",
       "            observer.disconnect();\n",
       "        }}\n",
       "}});\n",
       "\n",
       "// Listen for the removal of the full notebook cells\n",
       "var notebookContainer = gd.closest('#notebook-container');\n",
       "if (notebookContainer) {{\n",
       "    x.observe(notebookContainer, {childList: true});\n",
       "}}\n",
       "\n",
       "// Listen for the clearing of the current output cell\n",
       "var outputEl = gd.closest('.output');\n",
       "if (outputEl) {{\n",
       "    x.observe(outputEl, {childList: true});\n",
       "}}\n",
       "\n",
       "                        })\n",
       "                };\n",
       "                });\n",
       "            </script>\n",
       "        </div>"
      ]
     },
     "metadata": {},
     "output_type": "display_data"
    }
   ],
   "source": [
    "fig = go.Figure(\n",
    "        data=[\n",
    "            go.Scatter(x=df_total_year.TIME, \n",
    "                       y=df_total_year.Value,\n",
    "                       mode='lines')\n",
    "        ],\n",
    "        layout=go.Layout(\n",
    "            title=dict(text='Total Meat Consumption Evolution'),\n",
    "            xaxis=dict(title='Year'),\n",
    "            yaxis=dict(title='Meat consumption, thousand tonnes')\n",
    "        )\n",
    "    )\n",
    "fig.show()"
   ]
  },
  {
   "cell_type": "markdown",
   "metadata": {},
   "source": [
    "This is a more step by step way to define the same graph, using methods `add_trace` and `layout.update` on the figure object."
   ]
  },
  {
   "cell_type": "code",
   "execution_count": 13,
   "metadata": {},
   "outputs": [
    {
     "data": {
      "application/vnd.plotly.v1+json": {
       "config": {
        "plotlyServerURL": "https://plot.ly"
       },
       "data": [
        {
         "mode": "lines",
         "type": "scatter",
         "uid": "068f93be-2153-4c6b-8407-64d95368fcc0",
         "x": [
          1990,
          1991,
          1992,
          1993,
          1994,
          1995,
          1996,
          1997,
          1998,
          1999,
          2000,
          2001,
          2002,
          2003,
          2004,
          2005,
          2006,
          2007,
          2008,
          2009,
          2010,
          2011,
          2012,
          2013,
          2014,
          2015,
          2016,
          2017,
          2018
         ],
         "y": [
          218203,
          238417,
          260198,
          277449,
          292060,
          302593,
          303447,
          320615,
          332461,
          341410,
          430161,
          438483,
          453547,
          461973,
          469940,
          481864,
          496697,
          506330,
          521975,
          527523,
          544439,
          551565,
          564106,
          576559,
          585890,
          595643,
          603474,
          608799,
          615118
         ]
        }
       ],
       "layout": {
        "title": {
         "text": "Total Meat Consumption Evolution"
        },
        "xaxis": {
         "title": {
          "text": "Year"
         }
        },
        "yaxis": {
         "title": {
          "text": "Meat consumption, thousand tonnes"
         }
        }
       }
      },
      "text/html": [
       "<div>\n",
       "        \n",
       "        \n",
       "            <div id=\"1ab0fa45-bc77-41ef-a72d-ac611127596e\" class=\"plotly-graph-div\" style=\"height:525px; width:100%;\"></div>\n",
       "            <script type=\"text/javascript\">\n",
       "                require([\"plotly\"], function(Plotly) {\n",
       "                    window.PLOTLYENV=window.PLOTLYENV || {};\n",
       "                    window.PLOTLYENV.BASE_URL='https://plot.ly';\n",
       "                    \n",
       "                if (document.getElementById(\"1ab0fa45-bc77-41ef-a72d-ac611127596e\")) {\n",
       "                    Plotly.newPlot(\n",
       "                        '1ab0fa45-bc77-41ef-a72d-ac611127596e',\n",
       "                        [{\"mode\": \"lines\", \"type\": \"scatter\", \"uid\": \"068f93be-2153-4c6b-8407-64d95368fcc0\", \"x\": [1990, 1991, 1992, 1993, 1994, 1995, 1996, 1997, 1998, 1999, 2000, 2001, 2002, 2003, 2004, 2005, 2006, 2007, 2008, 2009, 2010, 2011, 2012, 2013, 2014, 2015, 2016, 2017, 2018], \"y\": [218203.0, 238417.0, 260198.0, 277449.0, 292060.0, 302593.0, 303447.0, 320615.0, 332461.0, 341410.0, 430161.0, 438483.0, 453547.0, 461973.0, 469940.0, 481864.0, 496697.0, 506330.0, 521975.0, 527523.0, 544439.0, 551565.0, 564106.0, 576559.0, 585890.0, 595643.0, 603474.0, 608799.0, 615118.0]}],\n",
       "                        {\"title\": {\"text\": \"Total Meat Consumption Evolution\"}, \"xaxis\": {\"title\": {\"text\": \"Year\"}}, \"yaxis\": {\"title\": {\"text\": \"Meat consumption, thousand tonnes\"}}},\n",
       "                        {\"plotlyServerURL\": \"https://plot.ly\", \"responsive\": true}\n",
       "                    ).then(function(){\n",
       "                            \n",
       "var gd = document.getElementById('1ab0fa45-bc77-41ef-a72d-ac611127596e');\n",
       "var x = new MutationObserver(function (mutations, observer) {{\n",
       "        var display = window.getComputedStyle(gd).display;\n",
       "        if (!display || display === 'none') {{\n",
       "            console.log([gd, 'removed!']);\n",
       "            Plotly.purge(gd);\n",
       "            observer.disconnect();\n",
       "        }}\n",
       "}});\n",
       "\n",
       "// Listen for the removal of the full notebook cells\n",
       "var notebookContainer = gd.closest('#notebook-container');\n",
       "if (notebookContainer) {{\n",
       "    x.observe(notebookContainer, {childList: true});\n",
       "}}\n",
       "\n",
       "// Listen for the clearing of the current output cell\n",
       "var outputEl = gd.closest('.output');\n",
       "if (outputEl) {{\n",
       "    x.observe(outputEl, {childList: true});\n",
       "}}\n",
       "\n",
       "                        })\n",
       "                };\n",
       "                });\n",
       "            </script>\n",
       "        </div>"
      ]
     },
     "metadata": {},
     "output_type": "display_data"
    }
   ],
   "source": [
    "fig = go.Figure()\n",
    "# create a data trace \n",
    "fig.add_trace(go.Scatter(x=df_total_year.TIME, \n",
    "                         y=df_total_year.Value,\n",
    "                         mode='lines'))\n",
    "# edit the layout\n",
    "fig.layout.update(title='Total Meat Consumption Evolution',\n",
    "                   xaxis_title='Year',\n",
    "                   yaxis_title='Meat consumption, thousand tonnes')\n",
    "fig.show()"
   ]
  },
  {
   "cell_type": "markdown",
   "metadata": {},
   "source": [
    "Now let's build a multiple lines chart, adding a split by type of meat to the previous graph."
   ]
  },
  {
   "cell_type": "code",
   "execution_count": 29,
   "metadata": {},
   "outputs": [
    {
     "data": {
      "text/html": [
       "<div>\n",
       "<style scoped>\n",
       "    .dataframe tbody tr th:only-of-type {\n",
       "        vertical-align: middle;\n",
       "    }\n",
       "\n",
       "    .dataframe tbody tr th {\n",
       "        vertical-align: top;\n",
       "    }\n",
       "\n",
       "    .dataframe thead th {\n",
       "        text-align: right;\n",
       "    }\n",
       "</style>\n",
       "<table border=\"1\" class=\"dataframe\">\n",
       "  <thead>\n",
       "    <tr style=\"text-align: right;\">\n",
       "      <th></th>\n",
       "      <th>TIME</th>\n",
       "      <th>SUBJECT</th>\n",
       "      <th>Value</th>\n",
       "    </tr>\n",
       "  </thead>\n",
       "  <tbody>\n",
       "    <tr>\n",
       "      <td>0</td>\n",
       "      <td>1990</td>\n",
       "      <td>BEEF</td>\n",
       "      <td>71089.0</td>\n",
       "    </tr>\n",
       "    <tr>\n",
       "      <td>1</td>\n",
       "      <td>1990</td>\n",
       "      <td>PIG</td>\n",
       "      <td>84457.0</td>\n",
       "    </tr>\n",
       "    <tr>\n",
       "      <td>2</td>\n",
       "      <td>1990</td>\n",
       "      <td>POULTRY</td>\n",
       "      <td>50556.0</td>\n",
       "    </tr>\n",
       "    <tr>\n",
       "      <td>3</td>\n",
       "      <td>1990</td>\n",
       "      <td>SHEEP</td>\n",
       "      <td>12101.0</td>\n",
       "    </tr>\n",
       "    <tr>\n",
       "      <td>4</td>\n",
       "      <td>1991</td>\n",
       "      <td>BEEF</td>\n",
       "      <td>74012.0</td>\n",
       "    </tr>\n",
       "  </tbody>\n",
       "</table>\n",
       "</div>"
      ],
      "text/plain": [
       "   TIME  SUBJECT    Value\n",
       "0  1990     BEEF  71089.0\n",
       "1  1990      PIG  84457.0\n",
       "2  1990  POULTRY  50556.0\n",
       "3  1990    SHEEP  12101.0\n",
       "4  1991     BEEF  74012.0"
      ]
     },
     "execution_count": 29,
     "metadata": {},
     "output_type": "execute_result"
    }
   ],
   "source": [
    "# create a dataframe with meat consumption by type by year\n",
    "df_year_type = df_total_clean.groupby(['TIME', 'SUBJECT']).Value.sum().round(0).reset_index()\n",
    "df_year_type.head()"
   ]
  },
  {
   "cell_type": "markdown",
   "metadata": {},
   "source": [
    "To plot the results easily, let's pivot this dataframe, so that each column represents a type of meat and each row represents a year and on the intersection we have the actual value of thousands of tonnes of meat consumed."
   ]
  },
  {
   "cell_type": "code",
   "execution_count": 30,
   "metadata": {},
   "outputs": [
    {
     "data": {
      "text/html": [
       "<div>\n",
       "<style scoped>\n",
       "    .dataframe tbody tr th:only-of-type {\n",
       "        vertical-align: middle;\n",
       "    }\n",
       "\n",
       "    .dataframe tbody tr th {\n",
       "        vertical-align: top;\n",
       "    }\n",
       "\n",
       "    .dataframe thead th {\n",
       "        text-align: right;\n",
       "    }\n",
       "</style>\n",
       "<table border=\"1\" class=\"dataframe\">\n",
       "  <thead>\n",
       "    <tr style=\"text-align: right;\">\n",
       "      <th>SUBJECT</th>\n",
       "      <th>TIME</th>\n",
       "      <th>BEEF</th>\n",
       "      <th>PIG</th>\n",
       "      <th>POULTRY</th>\n",
       "      <th>SHEEP</th>\n",
       "    </tr>\n",
       "  </thead>\n",
       "  <tbody>\n",
       "    <tr>\n",
       "      <td>0</td>\n",
       "      <td>1990</td>\n",
       "      <td>71089.0</td>\n",
       "      <td>84457.0</td>\n",
       "      <td>50556.0</td>\n",
       "      <td>12101.0</td>\n",
       "    </tr>\n",
       "    <tr>\n",
       "      <td>1</td>\n",
       "      <td>1991</td>\n",
       "      <td>74012.0</td>\n",
       "      <td>89966.0</td>\n",
       "      <td>61594.0</td>\n",
       "      <td>12845.0</td>\n",
       "    </tr>\n",
       "    <tr>\n",
       "      <td>2</td>\n",
       "      <td>1992</td>\n",
       "      <td>82849.0</td>\n",
       "      <td>95298.0</td>\n",
       "      <td>68323.0</td>\n",
       "      <td>13728.0</td>\n",
       "    </tr>\n",
       "    <tr>\n",
       "      <td>3</td>\n",
       "      <td>1993</td>\n",
       "      <td>83594.0</td>\n",
       "      <td>105873.0</td>\n",
       "      <td>73748.0</td>\n",
       "      <td>14234.0</td>\n",
       "    </tr>\n",
       "    <tr>\n",
       "      <td>4</td>\n",
       "      <td>1994</td>\n",
       "      <td>86789.0</td>\n",
       "      <td>111632.0</td>\n",
       "      <td>78938.0</td>\n",
       "      <td>14700.0</td>\n",
       "    </tr>\n",
       "  </tbody>\n",
       "</table>\n",
       "</div>"
      ],
      "text/plain": [
       "SUBJECT  TIME     BEEF       PIG  POULTRY    SHEEP\n",
       "0        1990  71089.0   84457.0  50556.0  12101.0\n",
       "1        1991  74012.0   89966.0  61594.0  12845.0\n",
       "2        1992  82849.0   95298.0  68323.0  13728.0\n",
       "3        1993  83594.0  105873.0  73748.0  14234.0\n",
       "4        1994  86789.0  111632.0  78938.0  14700.0"
      ]
     },
     "execution_count": 30,
     "metadata": {},
     "output_type": "execute_result"
    }
   ],
   "source": [
    "# pivot the dataframe using pivot_table function\n",
    "df_year_type_pivot = df_year_type.pivot_table(index='TIME', columns='SUBJECT', values='Value').reset_index()\n",
    "df_year_type_pivot.head()"
   ]
  },
  {
   "cell_type": "code",
   "execution_count": 16,
   "metadata": {},
   "outputs": [
    {
     "data": {
      "application/vnd.plotly.v1+json": {
       "config": {
        "plotlyServerURL": "https://plot.ly"
       },
       "data": [
        {
         "mode": "lines+markers",
         "name": "beef",
         "type": "scatter",
         "uid": "8c0b2232-a081-42d5-b3de-0800150fc7f5",
         "x": [
          1990,
          1991,
          1992,
          1993,
          1994,
          1995,
          1996,
          1997,
          1998,
          1999,
          2000,
          2001,
          2002,
          2003,
          2004,
          2005,
          2006,
          2007,
          2008,
          2009,
          2010,
          2011,
          2012,
          2013,
          2014,
          2015,
          2016,
          2017,
          2018
         ],
         "y": [
          71089,
          74012,
          82849,
          83594,
          86789,
          88620,
          89579,
          91603,
          91595,
          93681,
          108500,
          108742,
          112613,
          114247,
          115762,
          117566,
          121430,
          124058,
          122125,
          120944,
          121559,
          120044,
          120585,
          122724,
          121809,
          122418,
          124626,
          126266,
          128188
         ]
        },
        {
         "mode": "lines+markers",
         "name": "pig",
         "type": "scatter",
         "uid": "e7e6d145-4503-400a-a2a5-5ef6cd75a3b2",
         "x": [
          1990,
          1991,
          1992,
          1993,
          1994,
          1995,
          1996,
          1997,
          1998,
          1999,
          2000,
          2001,
          2002,
          2003,
          2004,
          2005,
          2006,
          2007,
          2008,
          2009,
          2010,
          2011,
          2012,
          2013,
          2014,
          2015,
          2016,
          2017,
          2018
         ],
         "y": [
          84457,
          89966,
          95298,
          105873,
          111632,
          113009,
          112443,
          120809,
          128588,
          129884,
          173950,
          177211,
          181784,
          184613,
          186480,
          190995,
          196323,
          193595,
          201813,
          207322,
          212735,
          213803,
          220506,
          225904,
          231298,
          232772,
          231306,
          232414,
          232923
         ]
        },
        {
         "mode": "lines+markers",
         "name": "poultry",
         "type": "scatter",
         "uid": "09821cb2-b8d2-4fd0-8f9b-92feb50f4f25",
         "x": [
          1990,
          1991,
          1992,
          1993,
          1994,
          1995,
          1996,
          1997,
          1998,
          1999,
          2000,
          2001,
          2002,
          2003,
          2004,
          2005,
          2006,
          2007,
          2008,
          2009,
          2010,
          2011,
          2012,
          2013,
          2014,
          2015,
          2016,
          2017,
          2018
         ],
         "y": [
          50556,
          61594,
          68323,
          73748,
          78938,
          85820,
          87003,
          92962,
          96502,
          101826,
          127861,
          132802,
          139134,
          142583,
          146405,
          151381,
          156727,
          165660,
          175435,
          176626,
          187393,
          195006,
          200190,
          204474,
          208709,
          215781,
          222615,
          224835,
          228455
         ]
        },
        {
         "mode": "lines+markers",
         "name": "sheep",
         "type": "scatter",
         "uid": "23d18da7-6697-4dfb-a3b9-5eef567d65d6",
         "x": [
          1990,
          1991,
          1992,
          1993,
          1994,
          1995,
          1996,
          1997,
          1998,
          1999,
          2000,
          2001,
          2002,
          2003,
          2004,
          2005,
          2006,
          2007,
          2008,
          2009,
          2010,
          2011,
          2012,
          2013,
          2014,
          2015,
          2016,
          2017,
          2018
         ],
         "y": [
          12101,
          12845,
          13728,
          14234,
          14700,
          15144,
          14421,
          15241,
          15777,
          16019,
          19851,
          19728,
          20016,
          20529,
          21292,
          21923,
          22216,
          23017,
          22601,
          22631,
          22752,
          22711,
          22825,
          23457,
          24075,
          24672,
          24927,
          25284,
          25552
         ]
        }
       ],
       "layout": {
        "title": {
         "text": "Meat Consumption Evolution by Meat Type"
        },
        "xaxis": {
         "title": {
          "text": "Year"
         }
        },
        "yaxis": {
         "title": {
          "text": "Meat consumption, thousand tonnes"
         }
        }
       }
      },
      "text/html": [
       "<div>\n",
       "        \n",
       "        \n",
       "            <div id=\"d242b00e-608f-4b73-8448-6c0bf6e0f869\" class=\"plotly-graph-div\" style=\"height:525px; width:100%;\"></div>\n",
       "            <script type=\"text/javascript\">\n",
       "                require([\"plotly\"], function(Plotly) {\n",
       "                    window.PLOTLYENV=window.PLOTLYENV || {};\n",
       "                    window.PLOTLYENV.BASE_URL='https://plot.ly';\n",
       "                    \n",
       "                if (document.getElementById(\"d242b00e-608f-4b73-8448-6c0bf6e0f869\")) {\n",
       "                    Plotly.newPlot(\n",
       "                        'd242b00e-608f-4b73-8448-6c0bf6e0f869',\n",
       "                        [{\"mode\": \"lines+markers\", \"name\": \"beef\", \"type\": \"scatter\", \"uid\": \"8c0b2232-a081-42d5-b3de-0800150fc7f5\", \"x\": [1990, 1991, 1992, 1993, 1994, 1995, 1996, 1997, 1998, 1999, 2000, 2001, 2002, 2003, 2004, 2005, 2006, 2007, 2008, 2009, 2010, 2011, 2012, 2013, 2014, 2015, 2016, 2017, 2018], \"y\": [71089.0, 74012.0, 82849.0, 83594.0, 86789.0, 88620.0, 89579.0, 91603.0, 91595.0, 93681.0, 108500.0, 108742.0, 112613.0, 114247.0, 115762.0, 117566.0, 121430.0, 124058.0, 122125.0, 120944.0, 121559.0, 120044.0, 120585.0, 122724.0, 121809.0, 122418.0, 124626.0, 126266.0, 128188.0]}, {\"mode\": \"lines+markers\", \"name\": \"pig\", \"type\": \"scatter\", \"uid\": \"e7e6d145-4503-400a-a2a5-5ef6cd75a3b2\", \"x\": [1990, 1991, 1992, 1993, 1994, 1995, 1996, 1997, 1998, 1999, 2000, 2001, 2002, 2003, 2004, 2005, 2006, 2007, 2008, 2009, 2010, 2011, 2012, 2013, 2014, 2015, 2016, 2017, 2018], \"y\": [84457.0, 89966.0, 95298.0, 105873.0, 111632.0, 113009.0, 112443.0, 120809.0, 128588.0, 129884.0, 173950.0, 177211.0, 181784.0, 184613.0, 186480.0, 190995.0, 196323.0, 193595.0, 201813.0, 207322.0, 212735.0, 213803.0, 220506.0, 225904.0, 231298.0, 232772.0, 231306.0, 232414.0, 232923.0]}, {\"mode\": \"lines+markers\", \"name\": \"poultry\", \"type\": \"scatter\", \"uid\": \"09821cb2-b8d2-4fd0-8f9b-92feb50f4f25\", \"x\": [1990, 1991, 1992, 1993, 1994, 1995, 1996, 1997, 1998, 1999, 2000, 2001, 2002, 2003, 2004, 2005, 2006, 2007, 2008, 2009, 2010, 2011, 2012, 2013, 2014, 2015, 2016, 2017, 2018], \"y\": [50556.0, 61594.0, 68323.0, 73748.0, 78938.0, 85820.0, 87003.0, 92962.0, 96502.0, 101826.0, 127861.0, 132802.0, 139134.0, 142583.0, 146405.0, 151381.0, 156727.0, 165660.0, 175435.0, 176626.0, 187393.0, 195006.0, 200190.0, 204474.0, 208709.0, 215781.0, 222615.0, 224835.0, 228455.0]}, {\"mode\": \"lines+markers\", \"name\": \"sheep\", \"type\": \"scatter\", \"uid\": \"23d18da7-6697-4dfb-a3b9-5eef567d65d6\", \"x\": [1990, 1991, 1992, 1993, 1994, 1995, 1996, 1997, 1998, 1999, 2000, 2001, 2002, 2003, 2004, 2005, 2006, 2007, 2008, 2009, 2010, 2011, 2012, 2013, 2014, 2015, 2016, 2017, 2018], \"y\": [12101.0, 12845.0, 13728.0, 14234.0, 14700.0, 15144.0, 14421.0, 15241.0, 15777.0, 16019.0, 19851.0, 19728.0, 20016.0, 20529.0, 21292.0, 21923.0, 22216.0, 23017.0, 22601.0, 22631.0, 22752.0, 22711.0, 22825.0, 23457.0, 24075.0, 24672.0, 24927.0, 25284.0, 25552.0]}],\n",
       "                        {\"title\": {\"text\": \"Meat Consumption Evolution by Meat Type\"}, \"xaxis\": {\"title\": {\"text\": \"Year\"}}, \"yaxis\": {\"title\": {\"text\": \"Meat consumption, thousand tonnes\"}}},\n",
       "                        {\"plotlyServerURL\": \"https://plot.ly\", \"responsive\": true}\n",
       "                    ).then(function(){\n",
       "                            \n",
       "var gd = document.getElementById('d242b00e-608f-4b73-8448-6c0bf6e0f869');\n",
       "var x = new MutationObserver(function (mutations, observer) {{\n",
       "        var display = window.getComputedStyle(gd).display;\n",
       "        if (!display || display === 'none') {{\n",
       "            console.log([gd, 'removed!']);\n",
       "            Plotly.purge(gd);\n",
       "            observer.disconnect();\n",
       "        }}\n",
       "}});\n",
       "\n",
       "// Listen for the removal of the full notebook cells\n",
       "var notebookContainer = gd.closest('#notebook-container');\n",
       "if (notebookContainer) {{\n",
       "    x.observe(notebookContainer, {childList: true});\n",
       "}}\n",
       "\n",
       "// Listen for the clearing of the current output cell\n",
       "var outputEl = gd.closest('.output');\n",
       "if (outputEl) {{\n",
       "    x.observe(outputEl, {childList: true});\n",
       "}}\n",
       "\n",
       "                        })\n",
       "                };\n",
       "                });\n",
       "            </script>\n",
       "        </div>"
      ]
     },
     "metadata": {},
     "output_type": "display_data"
    }
   ],
   "source": [
    "fig = go.Figure()\n",
    "# create a data trace for each type of meat and add them to figure one by one\n",
    "fig.add_trace(go.Scatter(x=df_year_type_pivot.TIME, \n",
    "                         y=df_year_type_pivot.BEEF,\n",
    "                         mode='lines+markers',\n",
    "                         name='beef'))\n",
    "fig.add_trace(go.Scatter(x=df_year_type_pivot.TIME, \n",
    "                         y=df_year_type_pivot.PIG,\n",
    "                         mode='lines+markers',\n",
    "                         name='pig'))\n",
    "fig.add_trace(go.Scatter(x=df_year_type_pivot.TIME, \n",
    "                         y=df_year_type_pivot.POULTRY,\n",
    "                         mode='lines+markers',\n",
    "                         name='poultry'))\n",
    "fig.add_trace(go.Scatter(x=df_year_type_pivot.TIME, \n",
    "                         y=df_year_type_pivot.SHEEP,\n",
    "                         mode='lines+markers',\n",
    "                         name='sheep'))\n",
    "# edit the layout\n",
    "fig.layout.update(title='Meat Consumption Evolution by Meat Type',\n",
    "                   xaxis_title='Year',\n",
    "                   yaxis_title='Meat consumption, thousand tonnes')\n",
    "fig.show()"
   ]
  },
  {
   "cell_type": "markdown",
   "metadata": {},
   "source": [
    "## Building Plotly graphs with Cufflinks\n",
    "\n",
    "The main advantage of using Cufflinks over native Plotly syntax is that it is much less verbose and can be used directly on pandas dataframe objects. You can find full Cufflinks documentation [here](https://plot.ly/ipython-notebooks/cufflinks/).\n",
    "\n",
    "Let's recreate the same line chart using cufflinks."
   ]
  },
  {
   "cell_type": "code",
   "execution_count": 17,
   "metadata": {},
   "outputs": [
    {
     "data": {
      "application/vnd.plotly.v1+json": {
       "config": {
        "linkText": "Export to plot.ly",
        "plotlyServerURL": "https://plot.ly",
        "showLink": true
       },
       "data": [
        {
         "line": {
          "color": "rgba(255, 153, 51, 1.0)",
          "dash": "solid",
          "shape": "linear",
          "width": 1.3
         },
         "mode": "lines",
         "name": "Value",
         "text": "",
         "type": "scatter",
         "uid": "738f2b9e-fc21-446e-848b-487683991140",
         "x": [
          1990,
          1991,
          1992,
          1993,
          1994,
          1995,
          1996,
          1997,
          1998,
          1999,
          2000,
          2001,
          2002,
          2003,
          2004,
          2005,
          2006,
          2007,
          2008,
          2009,
          2010,
          2011,
          2012,
          2013,
          2014,
          2015,
          2016,
          2017,
          2018
         ],
         "y": [
          218203,
          238417,
          260198,
          277449,
          292060,
          302593,
          303447,
          320615,
          332461,
          341410,
          430161,
          438483,
          453547,
          461973,
          469940,
          481864,
          496697,
          506330,
          521975,
          527523,
          544439,
          551565,
          564106,
          576559,
          585890,
          595643,
          603474,
          608799,
          615118
         ]
        }
       ],
       "layout": {
        "legend": {
         "bgcolor": "#FFFFFF",
         "font": {
          "color": "#4D5663"
         }
        },
        "paper_bgcolor": "#FFFFFF",
        "plot_bgcolor": "#FFFFFF",
        "title": {
         "font": {
          "color": "#4D5663"
         },
         "text": "Total Meat Consumption Evolution"
        },
        "xaxis": {
         "gridcolor": "#E1E5ED",
         "showgrid": true,
         "tickfont": {
          "color": "#4D5663"
         },
         "title": {
          "font": {
           "color": "#4D5663"
          },
          "text": "Year"
         },
         "zerolinecolor": "#E1E5ED"
        },
        "yaxis": {
         "gridcolor": "#E1E5ED",
         "showgrid": true,
         "tickfont": {
          "color": "#4D5663"
         },
         "title": {
          "font": {
           "color": "#4D5663"
          },
          "text": "Meat consumption, thousand tonnes"
         },
         "zerolinecolor": "#E1E5ED"
        }
       }
      },
      "text/html": [
       "<div>\n",
       "        \n",
       "        \n",
       "            <div id=\"f231cc3c-c24a-48c2-9a10-69ff6e5a55c2\" class=\"plotly-graph-div\" style=\"height:525px; width:100%;\"></div>\n",
       "            <script type=\"text/javascript\">\n",
       "                require([\"plotly\"], function(Plotly) {\n",
       "                    window.PLOTLYENV=window.PLOTLYENV || {};\n",
       "                    window.PLOTLYENV.BASE_URL='https://plot.ly';\n",
       "                    \n",
       "                if (document.getElementById(\"f231cc3c-c24a-48c2-9a10-69ff6e5a55c2\")) {\n",
       "                    Plotly.newPlot(\n",
       "                        'f231cc3c-c24a-48c2-9a10-69ff6e5a55c2',\n",
       "                        [{\"line\": {\"color\": \"rgba(255, 153, 51, 1.0)\", \"dash\": \"solid\", \"shape\": \"linear\", \"width\": 1.3}, \"mode\": \"lines\", \"name\": \"Value\", \"text\": \"\", \"type\": \"scatter\", \"uid\": \"738f2b9e-fc21-446e-848b-487683991140\", \"x\": [1990, 1991, 1992, 1993, 1994, 1995, 1996, 1997, 1998, 1999, 2000, 2001, 2002, 2003, 2004, 2005, 2006, 2007, 2008, 2009, 2010, 2011, 2012, 2013, 2014, 2015, 2016, 2017, 2018], \"y\": [218203.0, 238417.0, 260198.0, 277449.0, 292060.0, 302593.0, 303447.0, 320615.0, 332461.0, 341410.0, 430161.0, 438483.0, 453547.0, 461973.0, 469940.0, 481864.0, 496697.0, 506330.0, 521975.0, 527523.0, 544439.0, 551565.0, 564106.0, 576559.0, 585890.0, 595643.0, 603474.0, 608799.0, 615118.0]}],\n",
       "                        {\"legend\": {\"bgcolor\": \"#FFFFFF\", \"font\": {\"color\": \"#4D5663\"}}, \"paper_bgcolor\": \"#FFFFFF\", \"plot_bgcolor\": \"#FFFFFF\", \"title\": {\"font\": {\"color\": \"#4D5663\"}, \"text\": \"Total Meat Consumption Evolution\"}, \"xaxis\": {\"gridcolor\": \"#E1E5ED\", \"showgrid\": true, \"tickfont\": {\"color\": \"#4D5663\"}, \"title\": {\"font\": {\"color\": \"#4D5663\"}, \"text\": \"Year\"}, \"zerolinecolor\": \"#E1E5ED\"}, \"yaxis\": {\"gridcolor\": \"#E1E5ED\", \"showgrid\": true, \"tickfont\": {\"color\": \"#4D5663\"}, \"title\": {\"font\": {\"color\": \"#4D5663\"}, \"text\": \"Meat consumption, thousand tonnes\"}, \"zerolinecolor\": \"#E1E5ED\"}},\n",
       "                        {\"showLink\": true, \"linkText\": \"Export to plot.ly\", \"plotlyServerURL\": \"https://plot.ly\", \"responsive\": true}\n",
       "                    ).then(function(){\n",
       "                            \n",
       "var gd = document.getElementById('f231cc3c-c24a-48c2-9a10-69ff6e5a55c2');\n",
       "var x = new MutationObserver(function (mutations, observer) {{\n",
       "        var display = window.getComputedStyle(gd).display;\n",
       "        if (!display || display === 'none') {{\n",
       "            console.log([gd, 'removed!']);\n",
       "            Plotly.purge(gd);\n",
       "            observer.disconnect();\n",
       "        }}\n",
       "}});\n",
       "\n",
       "// Listen for the removal of the full notebook cells\n",
       "var notebookContainer = gd.closest('#notebook-container');\n",
       "if (notebookContainer) {{\n",
       "    x.observe(notebookContainer, {childList: true});\n",
       "}}\n",
       "\n",
       "// Listen for the clearing of the current output cell\n",
       "var outputEl = gd.closest('.output');\n",
       "if (outputEl) {{\n",
       "    x.observe(outputEl, {childList: true});\n",
       "}}\n",
       "\n",
       "                        })\n",
       "                };\n",
       "                });\n",
       "            </script>\n",
       "        </div>"
      ]
     },
     "metadata": {},
     "output_type": "display_data"
    }
   ],
   "source": [
    "# Option 1: we can use iplot directly on the pandas series resulting from the groupby\n",
    "df_total_clean.groupby('TIME').Value.sum().round(0).iplot(kind='line', \n",
    "                                                    title='Total Meat Consumption Evolution',\n",
    "                                                    xTitle='Year',\n",
    "                                                    yTitle='Meat consumption, thousand tonnes')"
   ]
  },
  {
   "cell_type": "code",
   "execution_count": 18,
   "metadata": {},
   "outputs": [
    {
     "data": {
      "application/vnd.plotly.v1+json": {
       "config": {
        "linkText": "Export to plot.ly",
        "plotlyServerURL": "https://plot.ly",
        "showLink": true
       },
       "data": [
        {
         "line": {
          "color": "rgba(255, 153, 51, 1.0)",
          "dash": "solid",
          "shape": "linear",
          "width": 1.3
         },
         "mode": "lines",
         "name": "Value",
         "text": "",
         "type": "scatter",
         "uid": "a0dd60eb-99f2-475b-9169-6d15166db0ce",
         "x": [
          1990,
          1991,
          1992,
          1993,
          1994,
          1995,
          1996,
          1997,
          1998,
          1999,
          2000,
          2001,
          2002,
          2003,
          2004,
          2005,
          2006,
          2007,
          2008,
          2009,
          2010,
          2011,
          2012,
          2013,
          2014,
          2015,
          2016,
          2017,
          2018
         ],
         "y": [
          218203,
          238417,
          260198,
          277449,
          292060,
          302593,
          303447,
          320615,
          332461,
          341410,
          430161,
          438483,
          453547,
          461973,
          469940,
          481864,
          496697,
          506330,
          521975,
          527523,
          544439,
          551565,
          564106,
          576559,
          585890,
          595643,
          603474,
          608799,
          615118
         ]
        }
       ],
       "layout": {
        "legend": {
         "bgcolor": "#FFFFFF",
         "font": {
          "color": "#4D5663"
         }
        },
        "paper_bgcolor": "#FFFFFF",
        "plot_bgcolor": "#FFFFFF",
        "title": {
         "font": {
          "color": "#4D5663"
         },
         "text": "Total Meat Consumption Evolution"
        },
        "xaxis": {
         "gridcolor": "#E1E5ED",
         "showgrid": true,
         "tickfont": {
          "color": "#4D5663"
         },
         "title": {
          "font": {
           "color": "#4D5663"
          },
          "text": "Year"
         },
         "zerolinecolor": "#E1E5ED"
        },
        "yaxis": {
         "gridcolor": "#E1E5ED",
         "showgrid": true,
         "tickfont": {
          "color": "#4D5663"
         },
         "title": {
          "font": {
           "color": "#4D5663"
          },
          "text": "Meat consumption, thousand tonnes"
         },
         "zerolinecolor": "#E1E5ED"
        }
       }
      },
      "text/html": [
       "<div>\n",
       "        \n",
       "        \n",
       "            <div id=\"c17b5b74-b68d-49db-b9d1-b1b655ddbc10\" class=\"plotly-graph-div\" style=\"height:525px; width:100%;\"></div>\n",
       "            <script type=\"text/javascript\">\n",
       "                require([\"plotly\"], function(Plotly) {\n",
       "                    window.PLOTLYENV=window.PLOTLYENV || {};\n",
       "                    window.PLOTLYENV.BASE_URL='https://plot.ly';\n",
       "                    \n",
       "                if (document.getElementById(\"c17b5b74-b68d-49db-b9d1-b1b655ddbc10\")) {\n",
       "                    Plotly.newPlot(\n",
       "                        'c17b5b74-b68d-49db-b9d1-b1b655ddbc10',\n",
       "                        [{\"line\": {\"color\": \"rgba(255, 153, 51, 1.0)\", \"dash\": \"solid\", \"shape\": \"linear\", \"width\": 1.3}, \"mode\": \"lines\", \"name\": \"Value\", \"text\": \"\", \"type\": \"scatter\", \"uid\": \"a0dd60eb-99f2-475b-9169-6d15166db0ce\", \"x\": [1990, 1991, 1992, 1993, 1994, 1995, 1996, 1997, 1998, 1999, 2000, 2001, 2002, 2003, 2004, 2005, 2006, 2007, 2008, 2009, 2010, 2011, 2012, 2013, 2014, 2015, 2016, 2017, 2018], \"y\": [218203.0, 238417.0, 260198.0, 277449.0, 292060.0, 302593.0, 303447.0, 320615.0, 332461.0, 341410.0, 430161.0, 438483.0, 453547.0, 461973.0, 469940.0, 481864.0, 496697.0, 506330.0, 521975.0, 527523.0, 544439.0, 551565.0, 564106.0, 576559.0, 585890.0, 595643.0, 603474.0, 608799.0, 615118.0]}],\n",
       "                        {\"legend\": {\"bgcolor\": \"#FFFFFF\", \"font\": {\"color\": \"#4D5663\"}}, \"paper_bgcolor\": \"#FFFFFF\", \"plot_bgcolor\": \"#FFFFFF\", \"title\": {\"font\": {\"color\": \"#4D5663\"}, \"text\": \"Total Meat Consumption Evolution\"}, \"xaxis\": {\"gridcolor\": \"#E1E5ED\", \"showgrid\": true, \"tickfont\": {\"color\": \"#4D5663\"}, \"title\": {\"font\": {\"color\": \"#4D5663\"}, \"text\": \"Year\"}, \"zerolinecolor\": \"#E1E5ED\"}, \"yaxis\": {\"gridcolor\": \"#E1E5ED\", \"showgrid\": true, \"tickfont\": {\"color\": \"#4D5663\"}, \"title\": {\"font\": {\"color\": \"#4D5663\"}, \"text\": \"Meat consumption, thousand tonnes\"}, \"zerolinecolor\": \"#E1E5ED\"}},\n",
       "                        {\"showLink\": true, \"linkText\": \"Export to plot.ly\", \"plotlyServerURL\": \"https://plot.ly\", \"responsive\": true}\n",
       "                    ).then(function(){\n",
       "                            \n",
       "var gd = document.getElementById('c17b5b74-b68d-49db-b9d1-b1b655ddbc10');\n",
       "var x = new MutationObserver(function (mutations, observer) {{\n",
       "        var display = window.getComputedStyle(gd).display;\n",
       "        if (!display || display === 'none') {{\n",
       "            console.log([gd, 'removed!']);\n",
       "            Plotly.purge(gd);\n",
       "            observer.disconnect();\n",
       "        }}\n",
       "}});\n",
       "\n",
       "// Listen for the removal of the full notebook cells\n",
       "var notebookContainer = gd.closest('#notebook-container');\n",
       "if (notebookContainer) {{\n",
       "    x.observe(notebookContainer, {childList: true});\n",
       "}}\n",
       "\n",
       "// Listen for the clearing of the current output cell\n",
       "var outputEl = gd.closest('.output');\n",
       "if (outputEl) {{\n",
       "    x.observe(outputEl, {childList: true});\n",
       "}}\n",
       "\n",
       "                        })\n",
       "                };\n",
       "                });\n",
       "            </script>\n",
       "        </div>"
      ]
     },
     "metadata": {},
     "output_type": "display_data"
    }
   ],
   "source": [
    "# Option 2: we can use iplot on the df_total_year pandas Dataframe\n",
    "# In this case we need to specify the x and y axis\n",
    "df_total_year.iplot(kind='line', \n",
    "                    x='TIME',\n",
    "                    y='Value',\n",
    "                    title='Total Meat Consumption Evolution',\n",
    "                    xTitle='Year',\n",
    "                    yTitle='Meat consumption, thousand tonnes')"
   ]
  },
  {
   "cell_type": "markdown",
   "metadata": {},
   "source": [
    "In case of multiple lines graph, Cufflinks syntax will also be much less verbose than native Plotly syntax: "
   ]
  },
  {
   "cell_type": "code",
   "execution_count": 19,
   "metadata": {},
   "outputs": [
    {
     "data": {
      "application/vnd.plotly.v1+json": {
       "config": {
        "linkText": "Export to plot.ly",
        "plotlyServerURL": "https://plot.ly",
        "showLink": true
       },
       "data": [
        {
         "line": {
          "color": "rgba(255, 153, 51, 1.0)",
          "dash": "solid",
          "shape": "linear",
          "width": 1.3
         },
         "marker": {
          "size": 6,
          "symbol": "circle"
         },
         "mode": "lines+markers",
         "name": "BEEF",
         "text": "",
         "type": "scatter",
         "uid": "4a69a65f-3200-4e33-85af-ae9c83f3d441",
         "x": [
          1990,
          1991,
          1992,
          1993,
          1994,
          1995,
          1996,
          1997,
          1998,
          1999,
          2000,
          2001,
          2002,
          2003,
          2004,
          2005,
          2006,
          2007,
          2008,
          2009,
          2010,
          2011,
          2012,
          2013,
          2014,
          2015,
          2016,
          2017,
          2018
         ],
         "y": [
          71089,
          74012,
          82849,
          83594,
          86789,
          88620,
          89579,
          91603,
          91595,
          93681,
          108500,
          108742,
          112613,
          114247,
          115762,
          117566,
          121430,
          124058,
          122125,
          120944,
          121559,
          120044,
          120585,
          122724,
          121809,
          122418,
          124626,
          126266,
          128188
         ]
        },
        {
         "line": {
          "color": "rgba(55, 128, 191, 1.0)",
          "dash": "solid",
          "shape": "linear",
          "width": 1.3
         },
         "marker": {
          "size": 6,
          "symbol": "circle"
         },
         "mode": "lines+markers",
         "name": "PIG",
         "text": "",
         "type": "scatter",
         "uid": "d97bcc7c-0d3d-4454-94ff-a766d58c78ce",
         "x": [
          1990,
          1991,
          1992,
          1993,
          1994,
          1995,
          1996,
          1997,
          1998,
          1999,
          2000,
          2001,
          2002,
          2003,
          2004,
          2005,
          2006,
          2007,
          2008,
          2009,
          2010,
          2011,
          2012,
          2013,
          2014,
          2015,
          2016,
          2017,
          2018
         ],
         "y": [
          84457,
          89966,
          95298,
          105873,
          111632,
          113009,
          112443,
          120809,
          128588,
          129884,
          173950,
          177211,
          181784,
          184613,
          186480,
          190995,
          196323,
          193595,
          201813,
          207322,
          212735,
          213803,
          220506,
          225904,
          231298,
          232772,
          231306,
          232414,
          232923
         ]
        },
        {
         "line": {
          "color": "rgba(50, 171, 96, 1.0)",
          "dash": "solid",
          "shape": "linear",
          "width": 1.3
         },
         "marker": {
          "size": 6,
          "symbol": "circle"
         },
         "mode": "lines+markers",
         "name": "POULTRY",
         "text": "",
         "type": "scatter",
         "uid": "63466c5a-7fad-4895-88f2-a83ac7d6e9a2",
         "x": [
          1990,
          1991,
          1992,
          1993,
          1994,
          1995,
          1996,
          1997,
          1998,
          1999,
          2000,
          2001,
          2002,
          2003,
          2004,
          2005,
          2006,
          2007,
          2008,
          2009,
          2010,
          2011,
          2012,
          2013,
          2014,
          2015,
          2016,
          2017,
          2018
         ],
         "y": [
          50556,
          61594,
          68323,
          73748,
          78938,
          85820,
          87003,
          92962,
          96502,
          101826,
          127861,
          132802,
          139134,
          142583,
          146405,
          151381,
          156727,
          165660,
          175435,
          176626,
          187393,
          195006,
          200190,
          204474,
          208709,
          215781,
          222615,
          224835,
          228455
         ]
        },
        {
         "line": {
          "color": "rgba(128, 0, 128, 1.0)",
          "dash": "solid",
          "shape": "linear",
          "width": 1.3
         },
         "marker": {
          "size": 6,
          "symbol": "circle"
         },
         "mode": "lines+markers",
         "name": "SHEEP",
         "text": "",
         "type": "scatter",
         "uid": "c022c666-ae39-4fb3-abfa-1253647f7f8d",
         "x": [
          1990,
          1991,
          1992,
          1993,
          1994,
          1995,
          1996,
          1997,
          1998,
          1999,
          2000,
          2001,
          2002,
          2003,
          2004,
          2005,
          2006,
          2007,
          2008,
          2009,
          2010,
          2011,
          2012,
          2013,
          2014,
          2015,
          2016,
          2017,
          2018
         ],
         "y": [
          12101,
          12845,
          13728,
          14234,
          14700,
          15144,
          14421,
          15241,
          15777,
          16019,
          19851,
          19728,
          20016,
          20529,
          21292,
          21923,
          22216,
          23017,
          22601,
          22631,
          22752,
          22711,
          22825,
          23457,
          24075,
          24672,
          24927,
          25284,
          25552
         ]
        }
       ],
       "layout": {
        "legend": {
         "bgcolor": "#FFFFFF",
         "font": {
          "color": "#4D5663"
         }
        },
        "paper_bgcolor": "#FFFFFF",
        "plot_bgcolor": "#FFFFFF",
        "title": {
         "font": {
          "color": "#4D5663"
         },
         "text": "Meat Consumption Evolution by Meat Type"
        },
        "xaxis": {
         "gridcolor": "#E1E5ED",
         "showgrid": true,
         "tickfont": {
          "color": "#4D5663"
         },
         "title": {
          "font": {
           "color": "#4D5663"
          },
          "text": "Year"
         },
         "zerolinecolor": "#E1E5ED"
        },
        "yaxis": {
         "gridcolor": "#E1E5ED",
         "showgrid": true,
         "tickfont": {
          "color": "#4D5663"
         },
         "title": {
          "font": {
           "color": "#4D5663"
          },
          "text": "Meat consumption, thousand tonnes"
         },
         "zerolinecolor": "#E1E5ED"
        }
       }
      },
      "text/html": [
       "<div>\n",
       "        \n",
       "        \n",
       "            <div id=\"7fc3a5e3-6876-49f4-9c0b-79eb62f60219\" class=\"plotly-graph-div\" style=\"height:525px; width:100%;\"></div>\n",
       "            <script type=\"text/javascript\">\n",
       "                require([\"plotly\"], function(Plotly) {\n",
       "                    window.PLOTLYENV=window.PLOTLYENV || {};\n",
       "                    window.PLOTLYENV.BASE_URL='https://plot.ly';\n",
       "                    \n",
       "                if (document.getElementById(\"7fc3a5e3-6876-49f4-9c0b-79eb62f60219\")) {\n",
       "                    Plotly.newPlot(\n",
       "                        '7fc3a5e3-6876-49f4-9c0b-79eb62f60219',\n",
       "                        [{\"line\": {\"color\": \"rgba(255, 153, 51, 1.0)\", \"dash\": \"solid\", \"shape\": \"linear\", \"width\": 1.3}, \"marker\": {\"size\": 6, \"symbol\": \"circle\"}, \"mode\": \"lines+markers\", \"name\": \"BEEF\", \"text\": \"\", \"type\": \"scatter\", \"uid\": \"4a69a65f-3200-4e33-85af-ae9c83f3d441\", \"x\": [1990, 1991, 1992, 1993, 1994, 1995, 1996, 1997, 1998, 1999, 2000, 2001, 2002, 2003, 2004, 2005, 2006, 2007, 2008, 2009, 2010, 2011, 2012, 2013, 2014, 2015, 2016, 2017, 2018], \"y\": [71089.0, 74012.0, 82849.0, 83594.0, 86789.0, 88620.0, 89579.0, 91603.0, 91595.0, 93681.0, 108500.0, 108742.0, 112613.0, 114247.0, 115762.0, 117566.0, 121430.0, 124058.0, 122125.0, 120944.0, 121559.0, 120044.0, 120585.0, 122724.0, 121809.0, 122418.0, 124626.0, 126266.0, 128188.0]}, {\"line\": {\"color\": \"rgba(55, 128, 191, 1.0)\", \"dash\": \"solid\", \"shape\": \"linear\", \"width\": 1.3}, \"marker\": {\"size\": 6, \"symbol\": \"circle\"}, \"mode\": \"lines+markers\", \"name\": \"PIG\", \"text\": \"\", \"type\": \"scatter\", \"uid\": \"d97bcc7c-0d3d-4454-94ff-a766d58c78ce\", \"x\": [1990, 1991, 1992, 1993, 1994, 1995, 1996, 1997, 1998, 1999, 2000, 2001, 2002, 2003, 2004, 2005, 2006, 2007, 2008, 2009, 2010, 2011, 2012, 2013, 2014, 2015, 2016, 2017, 2018], \"y\": [84457.0, 89966.0, 95298.0, 105873.0, 111632.0, 113009.0, 112443.0, 120809.0, 128588.0, 129884.0, 173950.0, 177211.0, 181784.0, 184613.0, 186480.0, 190995.0, 196323.0, 193595.0, 201813.0, 207322.0, 212735.0, 213803.0, 220506.0, 225904.0, 231298.0, 232772.0, 231306.0, 232414.0, 232923.0]}, {\"line\": {\"color\": \"rgba(50, 171, 96, 1.0)\", \"dash\": \"solid\", \"shape\": \"linear\", \"width\": 1.3}, \"marker\": {\"size\": 6, \"symbol\": \"circle\"}, \"mode\": \"lines+markers\", \"name\": \"POULTRY\", \"text\": \"\", \"type\": \"scatter\", \"uid\": \"63466c5a-7fad-4895-88f2-a83ac7d6e9a2\", \"x\": [1990, 1991, 1992, 1993, 1994, 1995, 1996, 1997, 1998, 1999, 2000, 2001, 2002, 2003, 2004, 2005, 2006, 2007, 2008, 2009, 2010, 2011, 2012, 2013, 2014, 2015, 2016, 2017, 2018], \"y\": [50556.0, 61594.0, 68323.0, 73748.0, 78938.0, 85820.0, 87003.0, 92962.0, 96502.0, 101826.0, 127861.0, 132802.0, 139134.0, 142583.0, 146405.0, 151381.0, 156727.0, 165660.0, 175435.0, 176626.0, 187393.0, 195006.0, 200190.0, 204474.0, 208709.0, 215781.0, 222615.0, 224835.0, 228455.0]}, {\"line\": {\"color\": \"rgba(128, 0, 128, 1.0)\", \"dash\": \"solid\", \"shape\": \"linear\", \"width\": 1.3}, \"marker\": {\"size\": 6, \"symbol\": \"circle\"}, \"mode\": \"lines+markers\", \"name\": \"SHEEP\", \"text\": \"\", \"type\": \"scatter\", \"uid\": \"c022c666-ae39-4fb3-abfa-1253647f7f8d\", \"x\": [1990, 1991, 1992, 1993, 1994, 1995, 1996, 1997, 1998, 1999, 2000, 2001, 2002, 2003, 2004, 2005, 2006, 2007, 2008, 2009, 2010, 2011, 2012, 2013, 2014, 2015, 2016, 2017, 2018], \"y\": [12101.0, 12845.0, 13728.0, 14234.0, 14700.0, 15144.0, 14421.0, 15241.0, 15777.0, 16019.0, 19851.0, 19728.0, 20016.0, 20529.0, 21292.0, 21923.0, 22216.0, 23017.0, 22601.0, 22631.0, 22752.0, 22711.0, 22825.0, 23457.0, 24075.0, 24672.0, 24927.0, 25284.0, 25552.0]}],\n",
       "                        {\"legend\": {\"bgcolor\": \"#FFFFFF\", \"font\": {\"color\": \"#4D5663\"}}, \"paper_bgcolor\": \"#FFFFFF\", \"plot_bgcolor\": \"#FFFFFF\", \"title\": {\"font\": {\"color\": \"#4D5663\"}, \"text\": \"Meat Consumption Evolution by Meat Type\"}, \"xaxis\": {\"gridcolor\": \"#E1E5ED\", \"showgrid\": true, \"tickfont\": {\"color\": \"#4D5663\"}, \"title\": {\"font\": {\"color\": \"#4D5663\"}, \"text\": \"Year\"}, \"zerolinecolor\": \"#E1E5ED\"}, \"yaxis\": {\"gridcolor\": \"#E1E5ED\", \"showgrid\": true, \"tickfont\": {\"color\": \"#4D5663\"}, \"title\": {\"font\": {\"color\": \"#4D5663\"}, \"text\": \"Meat consumption, thousand tonnes\"}, \"zerolinecolor\": \"#E1E5ED\"}},\n",
       "                        {\"showLink\": true, \"linkText\": \"Export to plot.ly\", \"plotlyServerURL\": \"https://plot.ly\", \"responsive\": true}\n",
       "                    ).then(function(){\n",
       "                            \n",
       "var gd = document.getElementById('7fc3a5e3-6876-49f4-9c0b-79eb62f60219');\n",
       "var x = new MutationObserver(function (mutations, observer) {{\n",
       "        var display = window.getComputedStyle(gd).display;\n",
       "        if (!display || display === 'none') {{\n",
       "            console.log([gd, 'removed!']);\n",
       "            Plotly.purge(gd);\n",
       "            observer.disconnect();\n",
       "        }}\n",
       "}});\n",
       "\n",
       "// Listen for the removal of the full notebook cells\n",
       "var notebookContainer = gd.closest('#notebook-container');\n",
       "if (notebookContainer) {{\n",
       "    x.observe(notebookContainer, {childList: true});\n",
       "}}\n",
       "\n",
       "// Listen for the clearing of the current output cell\n",
       "var outputEl = gd.closest('.output');\n",
       "if (outputEl) {{\n",
       "    x.observe(outputEl, {childList: true});\n",
       "}}\n",
       "\n",
       "                        })\n",
       "                };\n",
       "                });\n",
       "            </script>\n",
       "        </div>"
      ]
     },
     "metadata": {},
     "output_type": "display_data"
    }
   ],
   "source": [
    "# Option 1: build a graph directly on the result of pivoting the dataframe\n",
    "\n",
    "df_year_type.pivot_table(index='TIME', columns='SUBJECT', values='Value').\\\n",
    "iplot(kind='line', \n",
    "      mode='lines+markers',\n",
    "      size=6,\n",
    "      title='Meat Consumption Evolution by Meat Type',\n",
    "      xTitle='Year',\n",
    "      yTitle='Meat consumption, thousand tonnes')"
   ]
  },
  {
   "cell_type": "code",
   "execution_count": 20,
   "metadata": {},
   "outputs": [
    {
     "data": {
      "application/vnd.plotly.v1+json": {
       "config": {
        "linkText": "Export to plot.ly",
        "plotlyServerURL": "https://plot.ly",
        "showLink": true
       },
       "data": [
        {
         "line": {
          "color": "rgba(255, 153, 51, 1.0)",
          "dash": "solid",
          "shape": "linear",
          "width": 1.3
         },
         "marker": {
          "size": 6,
          "symbol": "circle"
         },
         "mode": "lines+markers",
         "name": "BEEF",
         "text": "",
         "type": "scatter",
         "uid": "267b5609-6a46-4901-9c01-194959904a41",
         "x": [
          1990,
          1991,
          1992,
          1993,
          1994,
          1995,
          1996,
          1997,
          1998,
          1999,
          2000,
          2001,
          2002,
          2003,
          2004,
          2005,
          2006,
          2007,
          2008,
          2009,
          2010,
          2011,
          2012,
          2013,
          2014,
          2015,
          2016,
          2017,
          2018
         ],
         "y": [
          71089,
          74012,
          82849,
          83594,
          86789,
          88620,
          89579,
          91603,
          91595,
          93681,
          108500,
          108742,
          112613,
          114247,
          115762,
          117566,
          121430,
          124058,
          122125,
          120944,
          121559,
          120044,
          120585,
          122724,
          121809,
          122418,
          124626,
          126266,
          128188
         ]
        },
        {
         "line": {
          "color": "rgba(55, 128, 191, 1.0)",
          "dash": "solid",
          "shape": "linear",
          "width": 1.3
         },
         "marker": {
          "size": 6,
          "symbol": "circle"
         },
         "mode": "lines+markers",
         "name": "PIG",
         "text": "",
         "type": "scatter",
         "uid": "8498a309-0b3c-4326-94c8-797e54cc7c9d",
         "x": [
          1990,
          1991,
          1992,
          1993,
          1994,
          1995,
          1996,
          1997,
          1998,
          1999,
          2000,
          2001,
          2002,
          2003,
          2004,
          2005,
          2006,
          2007,
          2008,
          2009,
          2010,
          2011,
          2012,
          2013,
          2014,
          2015,
          2016,
          2017,
          2018
         ],
         "y": [
          84457,
          89966,
          95298,
          105873,
          111632,
          113009,
          112443,
          120809,
          128588,
          129884,
          173950,
          177211,
          181784,
          184613,
          186480,
          190995,
          196323,
          193595,
          201813,
          207322,
          212735,
          213803,
          220506,
          225904,
          231298,
          232772,
          231306,
          232414,
          232923
         ]
        },
        {
         "line": {
          "color": "rgba(50, 171, 96, 1.0)",
          "dash": "solid",
          "shape": "linear",
          "width": 1.3
         },
         "marker": {
          "size": 6,
          "symbol": "circle"
         },
         "mode": "lines+markers",
         "name": "POULTRY",
         "text": "",
         "type": "scatter",
         "uid": "53dc3d05-c0e5-4f63-af85-aaaac52e3061",
         "x": [
          1990,
          1991,
          1992,
          1993,
          1994,
          1995,
          1996,
          1997,
          1998,
          1999,
          2000,
          2001,
          2002,
          2003,
          2004,
          2005,
          2006,
          2007,
          2008,
          2009,
          2010,
          2011,
          2012,
          2013,
          2014,
          2015,
          2016,
          2017,
          2018
         ],
         "y": [
          50556,
          61594,
          68323,
          73748,
          78938,
          85820,
          87003,
          92962,
          96502,
          101826,
          127861,
          132802,
          139134,
          142583,
          146405,
          151381,
          156727,
          165660,
          175435,
          176626,
          187393,
          195006,
          200190,
          204474,
          208709,
          215781,
          222615,
          224835,
          228455
         ]
        },
        {
         "line": {
          "color": "rgba(128, 0, 128, 1.0)",
          "dash": "solid",
          "shape": "linear",
          "width": 1.3
         },
         "marker": {
          "size": 6,
          "symbol": "circle"
         },
         "mode": "lines+markers",
         "name": "SHEEP",
         "text": "",
         "type": "scatter",
         "uid": "442dc71e-de65-4d5f-934d-a201b04f6932",
         "x": [
          1990,
          1991,
          1992,
          1993,
          1994,
          1995,
          1996,
          1997,
          1998,
          1999,
          2000,
          2001,
          2002,
          2003,
          2004,
          2005,
          2006,
          2007,
          2008,
          2009,
          2010,
          2011,
          2012,
          2013,
          2014,
          2015,
          2016,
          2017,
          2018
         ],
         "y": [
          12101,
          12845,
          13728,
          14234,
          14700,
          15144,
          14421,
          15241,
          15777,
          16019,
          19851,
          19728,
          20016,
          20529,
          21292,
          21923,
          22216,
          23017,
          22601,
          22631,
          22752,
          22711,
          22825,
          23457,
          24075,
          24672,
          24927,
          25284,
          25552
         ]
        }
       ],
       "layout": {
        "legend": {
         "bgcolor": "#FFFFFF",
         "font": {
          "color": "#4D5663"
         }
        },
        "paper_bgcolor": "#FFFFFF",
        "plot_bgcolor": "#FFFFFF",
        "title": {
         "font": {
          "color": "#4D5663"
         },
         "text": "Meat Consumption Evolution by Meat Type"
        },
        "xaxis": {
         "gridcolor": "#E1E5ED",
         "showgrid": true,
         "tickfont": {
          "color": "#4D5663"
         },
         "title": {
          "font": {
           "color": "#4D5663"
          },
          "text": "Year"
         },
         "zerolinecolor": "#E1E5ED"
        },
        "yaxis": {
         "gridcolor": "#E1E5ED",
         "showgrid": true,
         "tickfont": {
          "color": "#4D5663"
         },
         "title": {
          "font": {
           "color": "#4D5663"
          },
          "text": "Meat consumption, thousand tonnes"
         },
         "zerolinecolor": "#E1E5ED"
        }
       }
      },
      "text/html": [
       "<div>\n",
       "        \n",
       "        \n",
       "            <div id=\"6a01dd59-9e2a-463a-bcd8-ef142684a5f1\" class=\"plotly-graph-div\" style=\"height:525px; width:100%;\"></div>\n",
       "            <script type=\"text/javascript\">\n",
       "                require([\"plotly\"], function(Plotly) {\n",
       "                    window.PLOTLYENV=window.PLOTLYENV || {};\n",
       "                    window.PLOTLYENV.BASE_URL='https://plot.ly';\n",
       "                    \n",
       "                if (document.getElementById(\"6a01dd59-9e2a-463a-bcd8-ef142684a5f1\")) {\n",
       "                    Plotly.newPlot(\n",
       "                        '6a01dd59-9e2a-463a-bcd8-ef142684a5f1',\n",
       "                        [{\"line\": {\"color\": \"rgba(255, 153, 51, 1.0)\", \"dash\": \"solid\", \"shape\": \"linear\", \"width\": 1.3}, \"marker\": {\"size\": 6, \"symbol\": \"circle\"}, \"mode\": \"lines+markers\", \"name\": \"BEEF\", \"text\": \"\", \"type\": \"scatter\", \"uid\": \"267b5609-6a46-4901-9c01-194959904a41\", \"x\": [1990, 1991, 1992, 1993, 1994, 1995, 1996, 1997, 1998, 1999, 2000, 2001, 2002, 2003, 2004, 2005, 2006, 2007, 2008, 2009, 2010, 2011, 2012, 2013, 2014, 2015, 2016, 2017, 2018], \"y\": [71089.0, 74012.0, 82849.0, 83594.0, 86789.0, 88620.0, 89579.0, 91603.0, 91595.0, 93681.0, 108500.0, 108742.0, 112613.0, 114247.0, 115762.0, 117566.0, 121430.0, 124058.0, 122125.0, 120944.0, 121559.0, 120044.0, 120585.0, 122724.0, 121809.0, 122418.0, 124626.0, 126266.0, 128188.0]}, {\"line\": {\"color\": \"rgba(55, 128, 191, 1.0)\", \"dash\": \"solid\", \"shape\": \"linear\", \"width\": 1.3}, \"marker\": {\"size\": 6, \"symbol\": \"circle\"}, \"mode\": \"lines+markers\", \"name\": \"PIG\", \"text\": \"\", \"type\": \"scatter\", \"uid\": \"8498a309-0b3c-4326-94c8-797e54cc7c9d\", \"x\": [1990, 1991, 1992, 1993, 1994, 1995, 1996, 1997, 1998, 1999, 2000, 2001, 2002, 2003, 2004, 2005, 2006, 2007, 2008, 2009, 2010, 2011, 2012, 2013, 2014, 2015, 2016, 2017, 2018], \"y\": [84457.0, 89966.0, 95298.0, 105873.0, 111632.0, 113009.0, 112443.0, 120809.0, 128588.0, 129884.0, 173950.0, 177211.0, 181784.0, 184613.0, 186480.0, 190995.0, 196323.0, 193595.0, 201813.0, 207322.0, 212735.0, 213803.0, 220506.0, 225904.0, 231298.0, 232772.0, 231306.0, 232414.0, 232923.0]}, {\"line\": {\"color\": \"rgba(50, 171, 96, 1.0)\", \"dash\": \"solid\", \"shape\": \"linear\", \"width\": 1.3}, \"marker\": {\"size\": 6, \"symbol\": \"circle\"}, \"mode\": \"lines+markers\", \"name\": \"POULTRY\", \"text\": \"\", \"type\": \"scatter\", \"uid\": \"53dc3d05-c0e5-4f63-af85-aaaac52e3061\", \"x\": [1990, 1991, 1992, 1993, 1994, 1995, 1996, 1997, 1998, 1999, 2000, 2001, 2002, 2003, 2004, 2005, 2006, 2007, 2008, 2009, 2010, 2011, 2012, 2013, 2014, 2015, 2016, 2017, 2018], \"y\": [50556.0, 61594.0, 68323.0, 73748.0, 78938.0, 85820.0, 87003.0, 92962.0, 96502.0, 101826.0, 127861.0, 132802.0, 139134.0, 142583.0, 146405.0, 151381.0, 156727.0, 165660.0, 175435.0, 176626.0, 187393.0, 195006.0, 200190.0, 204474.0, 208709.0, 215781.0, 222615.0, 224835.0, 228455.0]}, {\"line\": {\"color\": \"rgba(128, 0, 128, 1.0)\", \"dash\": \"solid\", \"shape\": \"linear\", \"width\": 1.3}, \"marker\": {\"size\": 6, \"symbol\": \"circle\"}, \"mode\": \"lines+markers\", \"name\": \"SHEEP\", \"text\": \"\", \"type\": \"scatter\", \"uid\": \"442dc71e-de65-4d5f-934d-a201b04f6932\", \"x\": [1990, 1991, 1992, 1993, 1994, 1995, 1996, 1997, 1998, 1999, 2000, 2001, 2002, 2003, 2004, 2005, 2006, 2007, 2008, 2009, 2010, 2011, 2012, 2013, 2014, 2015, 2016, 2017, 2018], \"y\": [12101.0, 12845.0, 13728.0, 14234.0, 14700.0, 15144.0, 14421.0, 15241.0, 15777.0, 16019.0, 19851.0, 19728.0, 20016.0, 20529.0, 21292.0, 21923.0, 22216.0, 23017.0, 22601.0, 22631.0, 22752.0, 22711.0, 22825.0, 23457.0, 24075.0, 24672.0, 24927.0, 25284.0, 25552.0]}],\n",
       "                        {\"legend\": {\"bgcolor\": \"#FFFFFF\", \"font\": {\"color\": \"#4D5663\"}}, \"paper_bgcolor\": \"#FFFFFF\", \"plot_bgcolor\": \"#FFFFFF\", \"title\": {\"font\": {\"color\": \"#4D5663\"}, \"text\": \"Meat Consumption Evolution by Meat Type\"}, \"xaxis\": {\"gridcolor\": \"#E1E5ED\", \"showgrid\": true, \"tickfont\": {\"color\": \"#4D5663\"}, \"title\": {\"font\": {\"color\": \"#4D5663\"}, \"text\": \"Year\"}, \"zerolinecolor\": \"#E1E5ED\"}, \"yaxis\": {\"gridcolor\": \"#E1E5ED\", \"showgrid\": true, \"tickfont\": {\"color\": \"#4D5663\"}, \"title\": {\"font\": {\"color\": \"#4D5663\"}, \"text\": \"Meat consumption, thousand tonnes\"}, \"zerolinecolor\": \"#E1E5ED\"}},\n",
       "                        {\"showLink\": true, \"linkText\": \"Export to plot.ly\", \"plotlyServerURL\": \"https://plot.ly\", \"responsive\": true}\n",
       "                    ).then(function(){\n",
       "                            \n",
       "var gd = document.getElementById('6a01dd59-9e2a-463a-bcd8-ef142684a5f1');\n",
       "var x = new MutationObserver(function (mutations, observer) {{\n",
       "        var display = window.getComputedStyle(gd).display;\n",
       "        if (!display || display === 'none') {{\n",
       "            console.log([gd, 'removed!']);\n",
       "            Plotly.purge(gd);\n",
       "            observer.disconnect();\n",
       "        }}\n",
       "}});\n",
       "\n",
       "// Listen for the removal of the full notebook cells\n",
       "var notebookContainer = gd.closest('#notebook-container');\n",
       "if (notebookContainer) {{\n",
       "    x.observe(notebookContainer, {childList: true});\n",
       "}}\n",
       "\n",
       "// Listen for the clearing of the current output cell\n",
       "var outputEl = gd.closest('.output');\n",
       "if (outputEl) {{\n",
       "    x.observe(outputEl, {childList: true});\n",
       "}}\n",
       "\n",
       "                        })\n",
       "                };\n",
       "                });\n",
       "            </script>\n",
       "        </div>"
      ]
     },
     "metadata": {},
     "output_type": "display_data"
    }
   ],
   "source": [
    "# Option 2: build a graph based on the df_year_type_pivot dataframe\n",
    "\n",
    "df_year_type_pivot.iplot(kind='line',\n",
    "                         mode='lines+markers',\n",
    "                         size=6,\n",
    "                         x='TIME',\n",
    "                         title='Meat Consumption Evolution by Meat Type',\n",
    "                         xTitle='Year',\n",
    "                         yTitle='Meat consumption, thousand tonnes')"
   ]
  },
  {
   "cell_type": "markdown",
   "metadata": {},
   "source": [
    "### PRACTICE TIME\n",
    "\n",
    "Create a bar chart showing total meat consumption in kg per capita per country (where each country is a bar) in year 2018 using either Plotly native syntax or Cufflinks. \n",
    "\n",
    "**BONUS POINTS!** Turn the bar chart into stacked bar chart by adding a split by type of meat.\n",
    "\n",
    "[Here](https://plot.ly/python/bar-charts/) is Plotly documentation for creating bar charts.\n",
    "[Here](https://plot.ly/ipython-notebooks/cufflinks/#bar-charts) is Cufflinks documentation for creating bar charts.\n",
    "\n",
    "Remember to filter the dataframe by year 2018 first and then summarize the meat consumption by country (hint: you can use pandas `groupby` funtion for that)."
   ]
  },
  {
   "cell_type": "code",
   "execution_count": 21,
   "metadata": {},
   "outputs": [],
   "source": [
    "# start by filtering the df_per_cap dataset by year 2018\n"
   ]
  },
  {
   "cell_type": "code",
   "execution_count": 22,
   "metadata": {},
   "outputs": [],
   "source": [
    "# continue by summarizing meat consumption by country\n"
   ]
  },
  {
   "cell_type": "markdown",
   "metadata": {},
   "source": [
    "**Cufflinks option**"
   ]
  },
  {
   "cell_type": "code",
   "execution_count": 23,
   "metadata": {},
   "outputs": [],
   "source": [
    "# create a bar chart\n"
   ]
  },
  {
   "cell_type": "code",
   "execution_count": 24,
   "metadata": {},
   "outputs": [],
   "source": [
    "# in order for bar chart to appear in descending order of meat consumption\n",
    "# sort pandas series / dataframe by meat consumption \n",
    "# you can use sort_values method for that\n"
   ]
  },
  {
   "cell_type": "code",
   "execution_count": 25,
   "metadata": {},
   "outputs": [],
   "source": [
    "# create stacked bar chart\n",
    "\n",
    "# start by pivoting the 2018 dataframe to have types of meat as columns and countries as rows\n",
    "\n",
    "\n",
    "# if you want the bars to appear ordered by total meat consumption, add total column and sort the dataframe by it\n",
    "# you can use the .sum() method providing the necessary axis as an argument\n",
    "\n",
    "\n",
    "# drop the total column after the sorting so that it doesn't appear on the graph\n",
    "\n",
    "\n",
    "# create a stacked bar chart (use barmode='stack')\n"
   ]
  },
  {
   "cell_type": "markdown",
   "metadata": {},
   "source": [
    "**Plotly Option**"
   ]
  },
  {
   "cell_type": "code",
   "execution_count": 26,
   "metadata": {},
   "outputs": [],
   "source": [
    "# create a bar chart\n"
   ]
  },
  {
   "cell_type": "code",
   "execution_count": 27,
   "metadata": {},
   "outputs": [],
   "source": [
    "# create a sorted bar chart\n"
   ]
  },
  {
   "cell_type": "code",
   "execution_count": 28,
   "metadata": {},
   "outputs": [],
   "source": [
    "# create stacked bar chart\n",
    "\n",
    "# start by pivoting the 2018 dataframe to have types of meat as columns and countries as rows\n",
    "\n",
    "\n",
    "# if you want the bars to appear ordered by total meat consumption, add total column and sort the dataframe by it\n",
    "# you can use the .sum() method providing the necessary axis as an argument\n",
    "\n",
    "\n",
    "# drop the total column after the sorting so that it doesn't appear on the graph\n",
    "\n",
    "\n",
    "# create a stacked bar chart (use barmode='stack')\n"
   ]
  },
  {
   "cell_type": "code",
   "execution_count": null,
   "metadata": {},
   "outputs": [],
   "source": []
  }
 ],
 "metadata": {
  "kernelspec": {
   "display_name": "dash2",
   "language": "python",
   "name": "dash2"
  },
  "language_info": {
   "codemirror_mode": {
    "name": "ipython",
    "version": 3
   },
   "file_extension": ".py",
   "mimetype": "text/x-python",
   "name": "python",
   "nbconvert_exporter": "python",
   "pygments_lexer": "ipython3",
   "version": "3.7.4"
  }
 },
 "nbformat": 4,
 "nbformat_minor": 2
}
