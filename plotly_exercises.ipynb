{
 "cells": [
  {
   "cell_type": "markdown",
   "metadata": {},
   "source": [
    "# Introduction to Plotly\n",
    "\n",
    "Let's start by importing the necessary libraries. \n",
    "\n",
    "Plotly can be used in offline and online modes. When in online mode, all the graphs you create will be saved in your Plotly account online. But there is a limit of graphs you can create for free, so you either have to constantly delete your graphs from your account or pay. \n",
    "\n",
    "The good news is that you can use offline mode where your graphs are only displayed in your Jupyter Notebook and are not saved online. There are no limitations as to the number of graphs you can create in offline mode. \n",
    "\n",
    "**Note:** apparently starting from plotly version 4.0 released in July 2019, the offline mode is used by default, and the online functionality is moved to a separate package called `chart-studio` (more on Plotly version 4.0 [here](https://medium.com/plotly/plotly-py-4-0-is-here-offline-only-express-first-displayable-anywhere-fc444e5659ee)). So depending on the Plotly version you have, you might not need to specify that you want to use offline mode explicitly."
   ]
  },
  {
   "cell_type": "code",
   "execution_count": null,
   "metadata": {},
   "outputs": [],
   "source": [
    "# pandas and numpy to work with datasets\n",
    "import pandas as pd\n",
    "import numpy as np\n",
    "\n",
    "# plotly imports for Plotly visualizations\n",
    "import plotly.plotly as py\n",
    "import plotly.graph_objs as go\n",
    "# inititate Plotly offline mode\n",
    "from plotly.offline import iplot, init_notebook_mode\n",
    "init_notebook_mode(connected=True)\n",
    "\n",
    "# cufflinks to create Plotly viz with simplified syntax\n",
    "import cufflinks as cf\n",
    "# inititate cufflinks offline mode\n",
    "cf.go_offline(connected=True)"
   ]
  },
  {
   "cell_type": "markdown",
   "metadata": {},
   "source": [
    "## Dataset exploration\n",
    "\n",
    "We will use data about OECD countries meat consumption from [Data World](https://data.world/oecd/meat-consumption). \n",
    "\n",
    "\n",
    "**Summary** \n",
    "\n",
    "Meat consumption is related to living standards, diet, livestock production and consumer prices, as well as macroeconomic uncertainty and shocks to GDP. Compared to other commodities, meat is characterised by high production costs and high output prices. Meat demand is associated with higher incomes and a shift - due to urbanisation - to food consumption changes that favour increased proteins from animal sources in diets. While the global meat industry provides food and a livelihood for billions of people, it also has significant environmental and health consequences for the planet. This indicator is presented for beef and veal, pig, poultry, and sheep. Meat consumption is measured in thousand tonnes of carcass weight (except for poultry expressed as ready to cook weight) and in kilograms of retail weight per capita. Carcass weight to retail weight conversion factors are: 0.7 for beef and veal, 0.78 for pigmeat, and 0.88 for both sheep meat and poultry meat.\n",
    "\n"
   ]
  },
  {
   "cell_type": "code",
   "execution_count": null,
   "metadata": {},
   "outputs": [],
   "source": [
    "# loading dataset into pandas dataframe\n",
    "df = pd.read_csv('meat_consumption_clean.csv')"
   ]
  },
  {
   "cell_type": "code",
   "execution_count": null,
   "metadata": {},
   "outputs": [],
   "source": [
    "# print out first 5 rows of the dataset\n",
    "df.head()"
   ]
  },
  {
   "cell_type": "code",
   "execution_count": null,
   "metadata": {},
   "outputs": [],
   "source": [
    "# get the number of rows and columns in the dataset\n",
    "df.shape"
   ]
  },
  {
   "cell_type": "code",
   "execution_count": null,
   "metadata": {},
   "outputs": [],
   "source": [
    "# get a sense of values in each column of the dataset\n",
    "df.describe(include='all')"
   ]
  },
  {
   "cell_type": "code",
   "execution_count": null,
   "metadata": {},
   "outputs": [],
   "source": [
    "# get the list of unique countries\n",
    "df.LOCATION.unique()"
   ]
  },
  {
   "cell_type": "code",
   "execution_count": null,
   "metadata": {},
   "outputs": [],
   "source": [
    "# get the list of unique meat types\n",
    "df.SUBJECT.unique()"
   ]
  },
  {
   "cell_type": "code",
   "execution_count": null,
   "metadata": {},
   "outputs": [],
   "source": [
    "# get the list of unique measures\n",
    "df.MEASURE.unique()"
   ]
  },
  {
   "cell_type": "markdown",
   "metadata": {},
   "source": [
    "Since there are 2 different measures of meat consumption in this dataset, let's separate it into 2 datasets: \n",
    "\n",
    "- `df_total` with total meat consumption in thousand tonnes of carcass weight\n",
    "- `df_per_cap` with meat consumption measured in kilogramms per capita of retail weight"
   ]
  },
  {
   "cell_type": "code",
   "execution_count": null,
   "metadata": {},
   "outputs": [],
   "source": [
    "# split the dataset into 2 based on the measure\n",
    "df_total =  df.query('MEASURE == \"THND_TONNE\"')\n",
    "df_per_cap = df.query('MEASURE == \"KG_CAP\"')"
   ]
  },
  {
   "cell_type": "markdown",
   "metadata": {},
   "source": [
    "## Building graphs with Plotly\n",
    "\n",
    "The native syntax of Plotly includes 3 main components: \n",
    "\n",
    "- **Data**\n",
    "\n",
    "The Data object defines the data that will be displayed in the graph. \n",
    "\n",
    "- **Layout**\n",
    "\n",
    "The Layout object defines all additional features of the graph, like title, axis titles, etc. \n",
    "\n",
    "- **Figure** \n",
    "\n",
    "The Figure object brings together the Data and the Layout and creates the graph to be plotted. \n",
    "\n",
    "\n",
    "You can find full Plotly documentation for Python [here](https://plot.ly/python/).\n",
    "\n",
    "Let's start by building a simple line chart summarizing the evolution of total meat consumption by year."
   ]
  },
  {
   "cell_type": "code",
   "execution_count": null,
   "metadata": {},
   "outputs": [],
   "source": [
    "# remove OECD, BRICS\n",
    "df_total_clean = df_total.query('~LOCATION.isin([\"OECD\",\"BRICS\"])')\n",
    "\n",
    "# group by year\n",
    "df_total_year = df_total_clean.groupby('TIME').Value.sum().round(0).reset_index()\n",
    "df_total_year"
   ]
  },
  {
   "cell_type": "code",
   "execution_count": null,
   "metadata": {},
   "outputs": [],
   "source": [
    "# save the split datasets to csv for further use\n",
    "df_total_clean.to_csv('df_total.csv', index=False)\n",
    "df_per_cap.to_csv('df_per_cap.csv', index=False)"
   ]
  },
  {
   "cell_type": "markdown",
   "metadata": {},
   "source": [
    "This would be the full syntax for defining the figure as one object at once:"
   ]
  },
  {
   "cell_type": "code",
   "execution_count": null,
   "metadata": {},
   "outputs": [],
   "source": [
    "fig = go.Figure(\n",
    "        data=[\n",
    "            go.Scatter(x=df_total_year.TIME, \n",
    "                       y=df_total_year.Value,\n",
    "                       mode='lines')\n",
    "        ],\n",
    "        layout=go.Layout(\n",
    "            title=dict(text='Total Meat Consumption Evolution'),\n",
    "            xaxis=dict(title='Year'),\n",
    "            yaxis=dict(title='Meat consumption, thousand tonnes')\n",
    "        )\n",
    "    )\n",
    "fig.show()"
   ]
  },
  {
   "cell_type": "markdown",
   "metadata": {},
   "source": [
    "This is a more step by step way to define the same graph, using methods `add_trace` and `layout.update` on the figure object."
   ]
  },
  {
   "cell_type": "code",
   "execution_count": null,
   "metadata": {},
   "outputs": [],
   "source": [
    "fig = go.Figure()\n",
    "# create a data trace \n",
    "fig.add_trace(go.Scatter(x=df_total_year.TIME, \n",
    "                         y=df_total_year.Value,\n",
    "                         mode='lines'))\n",
    "# edit the layout\n",
    "fig.layout.update(title='Total Meat Consumption Evolution',\n",
    "                   xaxis_title='Year',\n",
    "                   yaxis_title='Meat consumption, thousand tonnes')\n",
    "fig.show()"
   ]
  },
  {
   "cell_type": "markdown",
   "metadata": {},
   "source": [
    "Now let's build a multiple lines chart, adding a split by type of meat to the previous graph."
   ]
  },
  {
   "cell_type": "code",
   "execution_count": null,
   "metadata": {},
   "outputs": [],
   "source": [
    "# create a dataframe with meat consumption by type by year\n",
    "df_year_type = df_total_clean.groupby(['TIME', 'SUBJECT']).Value.sum().round(0).reset_index()\n",
    "df_year_type"
   ]
  },
  {
   "cell_type": "markdown",
   "metadata": {},
   "source": [
    "To plot the results easily, let's pivot this dataframe, so that each column represents a type of meat and each row represents a year and on the intersection we have the actual value of thousands of tonnes of meat consumed."
   ]
  },
  {
   "cell_type": "code",
   "execution_count": null,
   "metadata": {},
   "outputs": [],
   "source": [
    "# pivot the dataframe using pivot_table function\n",
    "df_year_type_pivot = df_year_type.pivot_table(index='TIME', columns='SUBJECT', values='Value').reset_index()\n",
    "df_year_type_pivot"
   ]
  },
  {
   "cell_type": "code",
   "execution_count": null,
   "metadata": {},
   "outputs": [],
   "source": [
    "fig = go.Figure()\n",
    "# create a data trace for each type of meat and add them to figure one by one\n",
    "fig.add_trace(go.Scatter(x=df_year_type_pivot.TIME, \n",
    "                         y=df_year_type_pivot.BEEF,\n",
    "                         mode='lines+markers',\n",
    "                         name='beef'))\n",
    "fig.add_trace(go.Scatter(x=df_year_type_pivot.TIME, \n",
    "                         y=df_year_type_pivot.PIG,\n",
    "                         mode='lines+markers',\n",
    "                         name='pig'))\n",
    "fig.add_trace(go.Scatter(x=df_year_type_pivot.TIME, \n",
    "                         y=df_year_type_pivot.POULTRY,\n",
    "                         mode='lines+markers',\n",
    "                         name='poultry'))\n",
    "fig.add_trace(go.Scatter(x=df_year_type_pivot.TIME, \n",
    "                         y=df_year_type_pivot.SHEEP,\n",
    "                         mode='lines+markers',\n",
    "                         name='sheep'))\n",
    "# edit the layout\n",
    "fig.layout.update(title='Meat Consumption Evolution by Meat Type',\n",
    "                   xaxis_title='Year',\n",
    "                   yaxis_title='Meat consumption, thousand tonnes')\n",
    "fig.show()"
   ]
  },
  {
   "cell_type": "markdown",
   "metadata": {},
   "source": [
    "## Building Plotly graphs with Cufflinks\n",
    "\n",
    "The main advantage of using Cufflinks over native Plotly syntax is that it is much less verbose and can be used directly on pandas dataframe objects. You can find full Cufflinks documentation [here](https://plot.ly/ipython-notebooks/cufflinks/).\n",
    "\n",
    "Let's recreate the same line chart using cufflinks."
   ]
  },
  {
   "cell_type": "code",
   "execution_count": null,
   "metadata": {},
   "outputs": [],
   "source": [
    "# Option 1: we can use iplot directly on the pandas series resulting from the groupby\n",
    "df_total_clean.groupby('TIME').Value.sum().round(0).iplot(kind='line', \n",
    "                                                    title='Total Meat Consumption Evolution',\n",
    "                                                    xTitle='Year',\n",
    "                                                    yTitle='Meat consumption, thousand tonnes')"
   ]
  },
  {
   "cell_type": "code",
   "execution_count": null,
   "metadata": {},
   "outputs": [],
   "source": [
    "# Option 2: we can use iplot on the df_total_year pandas Dataframe\n",
    "# In this case we need to specify the x and y axis\n",
    "df_total_year.iplot(kind='line', \n",
    "                    x='TIME',\n",
    "                    y='Value',\n",
    "                    title='Total Meat Consumption Evolution',\n",
    "                    xTitle='Year',\n",
    "                    yTitle='Meat consumption, thousand tonnes')"
   ]
  },
  {
   "cell_type": "markdown",
   "metadata": {},
   "source": [
    "In case of multiple lines graph, Cufflinks syntax will also be much less verbose than native Plotly syntax: "
   ]
  },
  {
   "cell_type": "code",
   "execution_count": null,
   "metadata": {},
   "outputs": [],
   "source": [
    "# Option 1: build a graph directly on the result of pivoting the dataframe\n",
    "\n",
    "df_year_type.pivot_table(index='TIME', columns='SUBJECT', values='Value').\\\n",
    "iplot(kind='line', \n",
    "      mode='lines+markers',\n",
    "      size=6,\n",
    "      title='Meat Consumption Evolution by Meat Type',\n",
    "      xTitle='Year',\n",
    "      yTitle='Meat consumption, thousand tonnes')"
   ]
  },
  {
   "cell_type": "code",
   "execution_count": null,
   "metadata": {},
   "outputs": [],
   "source": [
    "# Option 2: build a graph based on the df_year_type_pivot dataframe\n",
    "\n",
    "df_year_type_pivot.iplot(kind='line',\n",
    "                         mode='lines+markers',\n",
    "                         size=6,\n",
    "                         x='TIME',\n",
    "                         title='Meat Consumption Evolution by Meat Type',\n",
    "                         xTitle='Year',\n",
    "                         yTitle='Meat consumption, thousand tonnes')"
   ]
  },
  {
   "cell_type": "markdown",
   "metadata": {},
   "source": [
    "### PRACTICE TIME\n",
    "\n",
    "Create a bar chart showing total meat consumption in kg per capita per country (where each country is a bar) in year 2018 using either Plotly native syntax or Cufflinks. \n",
    "\n",
    "**BONUS POINTS!** Turn the bar chart into stacked bar chart by adding a split by type of meat.\n",
    "\n",
    "[Here](https://plot.ly/python/bar-charts/) is Plotly documentation for creating bar charts.\n",
    "[Here](https://plot.ly/ipython-notebooks/cufflinks/#bar-charts) is Cufflinks documentation for creating bar charts.\n",
    "\n",
    "Remember to filter the dataframe by year 2018 first and then summarize the meat consumption by country (hint: you can use pandas `groupby` funtion for that)."
   ]
  },
  {
   "cell_type": "code",
   "execution_count": null,
   "metadata": {},
   "outputs": [],
   "source": [
    "# start by filtering the df_per_cap dataset by year 2018\n"
   ]
  },
  {
   "cell_type": "code",
   "execution_count": null,
   "metadata": {},
   "outputs": [],
   "source": [
    "# continue by summarizing meat consumption by country\n"
   ]
  },
  {
   "cell_type": "markdown",
   "metadata": {},
   "source": [
    "**Cufflinks option**"
   ]
  },
  {
   "cell_type": "code",
   "execution_count": null,
   "metadata": {},
   "outputs": [],
   "source": [
    "# create a bar chart\n"
   ]
  },
  {
   "cell_type": "code",
   "execution_count": null,
   "metadata": {},
   "outputs": [],
   "source": [
    "# in order for bar chart to appear in descending order of meat consumption\n",
    "# sort pandas series / dataframe by meat consumption \n",
    "# you can use sort_values method for that\n"
   ]
  },
  {
   "cell_type": "code",
   "execution_count": null,
   "metadata": {},
   "outputs": [],
   "source": [
    "# create stacked bar chart\n",
    "\n",
    "# start by pivoting the 2018 dataframe to have types of meat as columns and countries as rows\n",
    "\n",
    "\n",
    "# if you want the bars to appear ordered by total meat consumption, add total column and sort the dataframe by it\n",
    "# you can use the .sum() method providing the necessary axis as an argument\n",
    "\n",
    "\n",
    "# drop the total column after the sorting so that it doesn't appear on the graph\n",
    "\n",
    "\n",
    "# create a stacked bar chart (use barmode='stack')\n"
   ]
  },
  {
   "cell_type": "markdown",
   "metadata": {},
   "source": [
    "**Plotly Option**"
   ]
  },
  {
   "cell_type": "code",
   "execution_count": null,
   "metadata": {},
   "outputs": [],
   "source": [
    "# create a bar chart\n"
   ]
  },
  {
   "cell_type": "code",
   "execution_count": null,
   "metadata": {},
   "outputs": [],
   "source": [
    "# create a sorted bar chart\n"
   ]
  },
  {
   "cell_type": "code",
   "execution_count": null,
   "metadata": {},
   "outputs": [],
   "source": [
    "# create stacked bar chart\n",
    "\n",
    "# start by pivoting the 2018 dataframe to have types of meat as columns and countries as rows\n",
    "\n",
    "\n",
    "# if you want the bars to appear ordered by total meat consumption, add total column and sort the dataframe by it\n",
    "# you can use the .sum() method providing the necessary axis as an argument\n",
    "\n",
    "\n",
    "# drop the total column after the sorting so that it doesn't appear on the graph\n",
    "\n",
    "\n",
    "# create a stacked bar chart (use barmode='stack')\n"
   ]
  },
  {
   "cell_type": "code",
   "execution_count": null,
   "metadata": {},
   "outputs": [],
   "source": []
  }
 ],
 "metadata": {
  "kernelspec": {
   "display_name": "dash2",
   "language": "python",
   "name": "dash2"
  },
  "language_info": {
   "codemirror_mode": {
    "name": "ipython",
    "version": 3
   },
   "file_extension": ".py",
   "mimetype": "text/x-python",
   "name": "python",
   "nbconvert_exporter": "python",
   "pygments_lexer": "ipython3",
   "version": "3.7.4"
  }
 },
 "nbformat": 4,
 "nbformat_minor": 2
}
