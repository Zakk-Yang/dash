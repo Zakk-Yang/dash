{
 "cells": [
  {
   "cell_type": "markdown",
   "metadata": {},
   "source": [
    "# Introduction to Plotly\n",
    "\n",
    "Let's start by importing the necessary libraries. \n",
    "\n",
    "In the past Plotly had offline and online modes. When in online mode, all the graphs you created would be saved in your Plotly account online. But there was a limit of graphs you could create for free, so you either had to constantly delete your graphs from your account or pay. The alternative was to switch to offline mode, so that your graphs were only displayed in your Jupyter Notebook and are not saved online. \n",
    "\n",
    "Starting from Plotly version 4.0 released in July 2019, the offline mode is used by default, and the online functionality is moved to a separate package called `chart-studio` (more on Plotly version 4.0 [here](https://medium.com/plotly/plotly-py-4-0-is-here-offline-only-express-first-displayable-anywhere-fc444e5659ee)). So make sure you are using tha latest version of Plotly and in this case you don't need to specify that you want to use offline mode explicitly."
   ]
  },
  {
   "cell_type": "code",
   "execution_count": null,
   "metadata": {},
   "outputs": [],
   "source": [
    "# check your plotly version\n",
    "import plotly \n",
    "plotly.__version__"
   ]
  },
  {
   "cell_type": "markdown",
   "metadata": {},
   "source": [
    "To upgrade to the latest Plotly version, uncomment and run the following cell:"
   ]
  },
  {
   "cell_type": "code",
   "execution_count": null,
   "metadata": {},
   "outputs": [],
   "source": [
    "#!pip install --upgrade plotly"
   ]
  },
  {
   "cell_type": "code",
   "execution_count": null,
   "metadata": {},
   "outputs": [],
   "source": [
    "# pandas and numpy to work with datasets\n",
    "import pandas as pd\n",
    "import numpy as np\n",
    "\n",
    "# plotly imports for Plotly visualizations\n",
    "import plotly.graph_objs as go\n",
    "import plotly.express as px"
   ]
  },
  {
   "cell_type": "markdown",
   "metadata": {},
   "source": [
    "## Dataset exploration\n",
    "\n",
    "We will use data about OECD countries meat consumption from [Data World](https://data.world/oecd/meat-consumption). \n",
    "\n",
    "\n",
    "**Summary** \n",
    "\n",
    "Meat consumption is related to living standards, diet, livestock production and consumer prices, as well as macroeconomic uncertainty and shocks to GDP. Compared to other commodities, meat is characterised by high production costs and high output prices. Meat demand is associated with higher incomes and a shift - due to urbanisation - to food consumption changes that favour increased proteins from animal sources in diets. While the global meat industry provides food and a livelihood for billions of people, it also has significant environmental and health consequences for the planet. This indicator is presented for beef and veal, pig, poultry, and sheep. Meat consumption is measured in thousand tonnes of carcass weight (except for poultry expressed as ready to cook weight) and in kilograms of retail weight per capita. Carcass weight to retail weight conversion factors are: 0.7 for beef and veal, 0.78 for pigmeat, and 0.88 for both sheep meat and poultry meat.\n",
    "\n"
   ]
  },
  {
   "cell_type": "code",
   "execution_count": null,
   "metadata": {},
   "outputs": [],
   "source": [
    "# loading dataset into pandas dataframe\n",
    "df = pd.read_csv('meat_consumption_clean.csv')"
   ]
  },
  {
   "cell_type": "code",
   "execution_count": null,
   "metadata": {},
   "outputs": [],
   "source": [
    "# print out first 5 rows of the dataset\n",
    "df.head()"
   ]
  },
  {
   "cell_type": "code",
   "execution_count": null,
   "metadata": {},
   "outputs": [],
   "source": [
    "# get the number of rows and columns in the dataset\n",
    "df.shape"
   ]
  },
  {
   "cell_type": "code",
   "execution_count": null,
   "metadata": {},
   "outputs": [],
   "source": [
    "# get a sense of values in each column of the dataset\n",
    "df.describe(include='all')"
   ]
  },
  {
   "cell_type": "code",
   "execution_count": null,
   "metadata": {},
   "outputs": [],
   "source": [
    "# get the list of unique countries\n",
    "df.LOCATION.unique()"
   ]
  },
  {
   "cell_type": "code",
   "execution_count": null,
   "metadata": {},
   "outputs": [],
   "source": [
    "# get the list of unique meat types\n",
    "df.SUBJECT.unique()"
   ]
  },
  {
   "cell_type": "code",
   "execution_count": null,
   "metadata": {},
   "outputs": [],
   "source": [
    "# get the list of unique measures\n",
    "df.MEASURE.unique()"
   ]
  },
  {
   "cell_type": "markdown",
   "metadata": {},
   "source": [
    "Since there are 2 different measures of meat consumption in this dataset, let's separate it into 2 datasets: \n",
    "\n",
    "- `df_total` with total meat consumption in thousand tonnes of carcass weight\n",
    "- `df_per_cap` with meat consumption measured in kilogramms per capita of retail weight"
   ]
  },
  {
   "cell_type": "code",
   "execution_count": null,
   "metadata": {},
   "outputs": [],
   "source": [
    "# split the dataset into 2 based on the measure\n",
    "df_total =  df.query('MEASURE == \"THND_TONNE\"')\n",
    "df_per_cap = df.query('MEASURE == \"KG_CAP\"')"
   ]
  },
  {
   "cell_type": "markdown",
   "metadata": {},
   "source": [
    "## Building graphs with Plotly\n",
    "\n",
    "The native syntax of Plotly includes 3 main components: \n",
    "\n",
    "- **Data**\n",
    "\n",
    "The Data object defines the data that will be displayed in the graph. \n",
    "\n",
    "- **Layout**\n",
    "\n",
    "The Layout object defines all additional features of the graph, like title, axis titles, etc. \n",
    "\n",
    "- **Figure** \n",
    "\n",
    "The Figure object brings together the Data and the Layout and creates the graph to be plotted. \n",
    "\n",
    "\n",
    "You can find full Plotly documentation for Python [here](https://plot.ly/python/).\n",
    "\n",
    "Let's start by building a simple line chart summarizing the evolution of total meat consumption by year."
   ]
  },
  {
   "cell_type": "code",
   "execution_count": null,
   "metadata": {},
   "outputs": [],
   "source": [
    "# remove OECD, BRICS\n",
    "df_total_clean = df_total.query('LOCATION != \"OECD\" & LOCATION != \"BRICS\"')\n",
    "\n",
    "# group by year\n",
    "df_total_year = df_total_clean.groupby('TIME').Value.sum().round(0).reset_index()\n",
    "df_total_year"
   ]
  },
  {
   "cell_type": "code",
   "execution_count": null,
   "metadata": {},
   "outputs": [],
   "source": [
    "# save the split datasets to csv for further use\n",
    "df_total_clean.to_csv('df_total.csv', index=False)\n",
    "df_per_cap.to_csv('df_per_cap.csv', index=False)"
   ]
  },
  {
   "cell_type": "markdown",
   "metadata": {},
   "source": [
    "This would be the full syntax for defining the figure as one object at once:"
   ]
  },
  {
   "cell_type": "code",
   "execution_count": null,
   "metadata": {},
   "outputs": [],
   "source": [
    "fig = go.Figure(\n",
    "        data=[\n",
    "            go.Scatter(x=df_total_year.TIME, \n",
    "                       y=df_total_year.Value,\n",
    "                       mode='lines')\n",
    "        ],\n",
    "        layout=go.Layout(\n",
    "            title=dict(text='Total Meat Consumption Evolution'),\n",
    "            xaxis=dict(title='Year'),\n",
    "            yaxis=dict(title='Meat consumption, thousand tonnes')\n",
    "        )\n",
    "    )\n",
    "fig.show()"
   ]
  },
  {
   "cell_type": "code",
   "execution_count": null,
   "metadata": {},
   "outputs": [],
   "source": [
    "print(fig)"
   ]
  },
  {
   "cell_type": "markdown",
   "metadata": {},
   "source": [
    "This is a more step by step way to define the same graph, using methods `add_trace` and `layout.update` on the figure object."
   ]
  },
  {
   "cell_type": "code",
   "execution_count": null,
   "metadata": {},
   "outputs": [],
   "source": [
    "# create figure object\n",
    "fig = go.Figure()\n",
    "# create a data trace \n",
    "fig.add_trace(go.Scatter(x=df_total_year.TIME, \n",
    "                         y=df_total_year.Value,\n",
    "                         mode='lines'))\n",
    "# edit the layout\n",
    "fig.update_layout(title='Total Meat Consumption Evolution',\n",
    "                   xaxis_title='Year',\n",
    "                   yaxis_title='Meat consumption, thousand tonnes')\n",
    "fig.show()"
   ]
  },
  {
   "cell_type": "markdown",
   "metadata": {},
   "source": [
    "Now let's build a multiple lines chart, adding a split by type of meat to the previous graph."
   ]
  },
  {
   "cell_type": "code",
   "execution_count": null,
   "metadata": {},
   "outputs": [],
   "source": [
    "# create a dataframe with meat consumption by type by year\n",
    "df_year_type = df_total_clean.groupby(['TIME', 'SUBJECT']).Value.sum().round(0).reset_index()\n",
    "df_year_type.head()"
   ]
  },
  {
   "cell_type": "markdown",
   "metadata": {},
   "source": [
    "To plot the results easily, let's pivot this dataframe, so that each column represents a type of meat and each row represents a year and on the intersection we have the actual value of thousands of tonnes of meat consumed."
   ]
  },
  {
   "cell_type": "code",
   "execution_count": null,
   "metadata": {},
   "outputs": [],
   "source": [
    "# pivot the dataframe using pivot_table function\n",
    "df_year_type_pivot = df_year_type.pivot_table(index='TIME', columns='SUBJECT', values='Value').reset_index()\n",
    "df_year_type_pivot.head()"
   ]
  },
  {
   "cell_type": "code",
   "execution_count": null,
   "metadata": {},
   "outputs": [],
   "source": [
    "fig = go.Figure()\n",
    "# create a data trace for each type of meat and add them to figure one by one\n",
    "fig.add_trace(go.Scatter(x=df_year_type_pivot.TIME, \n",
    "                         y=df_year_type_pivot.BEEF,\n",
    "                         mode='lines+markers',\n",
    "                         name='beef'))\n",
    "fig.add_trace(go.Scatter(x=df_year_type_pivot.TIME, \n",
    "                         y=df_year_type_pivot.PIG,\n",
    "                         mode='lines+markers',\n",
    "                         name='pig'))\n",
    "fig.add_trace(go.Scatter(x=df_year_type_pivot.TIME, \n",
    "                         y=df_year_type_pivot.POULTRY,\n",
    "                         mode='lines+markers',\n",
    "                         name='poultry'))\n",
    "fig.add_trace(go.Scatter(x=df_year_type_pivot.TIME, \n",
    "                         y=df_year_type_pivot.SHEEP,\n",
    "                         mode='lines+markers',\n",
    "                         name='sheep'))\n",
    "# edit the layout\n",
    "fig.update_layout(title='Meat Consumption Evolution by Meat Type',\n",
    "                   xaxis_title='Year',\n",
    "                   yaxis_title='Meat consumption, thousand tonnes')\n",
    "fig.show()"
   ]
  },
  {
   "cell_type": "markdown",
   "metadata": {},
   "source": [
    "## Building Plotly graphs with Plotly Express\n",
    "\n",
    "The main advantage of using Plotly Express over native Plotly syntax is that it is much less verbose. You can find full Plotly Express documentation [here](https://plot.ly/python/plotly-express/).\n",
    "\n",
    "Let's recreate the same line chart using Plotly Express. We will use `line` function for this."
   ]
  },
  {
   "cell_type": "code",
   "execution_count": null,
   "metadata": {},
   "outputs": [],
   "source": [
    "px.line(df_total_year, x=\"TIME\", y=\"Value\", title='Total Meat Consumption Evolution')"
   ]
  },
  {
   "cell_type": "markdown",
   "metadata": {},
   "source": [
    "To add axes titles, we need to use the `update_layout` method."
   ]
  },
  {
   "cell_type": "code",
   "execution_count": null,
   "metadata": {},
   "outputs": [],
   "source": [
    "px.line(df_total_year, x=\"TIME\", y=\"Value\", title='Total Meat Consumption Evolution').\\\n",
    "update_layout(xaxis_title='Year', yaxis_title='Meat consumption, thousand tonnes')"
   ]
  },
  {
   "cell_type": "markdown",
   "metadata": {},
   "source": [
    "In case of multiple lines graph, Plotly Express syntax will also be much less verbose than native Plotly syntax. We just need to pass the name of the column by which we want to split the lines to the `color` attribute."
   ]
  },
  {
   "cell_type": "code",
   "execution_count": null,
   "metadata": {},
   "outputs": [],
   "source": [
    "px.line(df_year_type, x='TIME', y='Value', color='SUBJECT', title='Meat Consumption Evolution by Meat Type').\\\n",
    "update_layout(xaxis_title='Year', yaxis_title='Meat consumption, thousand tonnes').\\\n",
    "update_traces(mode='lines+markers')"
   ]
  },
  {
   "cell_type": "markdown",
   "metadata": {},
   "source": [
    "### PRACTICE TIME\n",
    "\n",
    "Create a bar chart showing total meat consumption in kg per capita per country (where each country is a bar) in year 2018 using either Plotly native syntax or Plotly Express. \n",
    "\n",
    "**BONUS POINTS!** Turn the bar chart into stacked bar chart by adding a split by type of meat.\n",
    "\n",
    "[Here](https://plot.ly/python/bar-charts/) is Plotly documentation for creating bar charts.\n",
    "[Here](https://plot.ly/python/plotly-express/#visualize-distributions) is Plotly Express documentation for creating bar charts.\n",
    "\n",
    "Remember to filter the dataframe by year 2018 first and then summarize the meat consumption by country (hint: you can use pandas `groupby` funtion for that)."
   ]
  },
  {
   "cell_type": "code",
   "execution_count": null,
   "metadata": {},
   "outputs": [],
   "source": [
    "# start by filtering the df_per_cap dataset by year 2018\n"
   ]
  },
  {
   "cell_type": "code",
   "execution_count": null,
   "metadata": {},
   "outputs": [],
   "source": [
    "# continue by summarizing meat consumption by country\n"
   ]
  },
  {
   "cell_type": "markdown",
   "metadata": {},
   "source": [
    "**Plotly Express option**"
   ]
  },
  {
   "cell_type": "code",
   "execution_count": null,
   "metadata": {},
   "outputs": [],
   "source": [
    "# create a bar chart\n"
   ]
  },
  {
   "cell_type": "code",
   "execution_count": null,
   "metadata": {},
   "outputs": [],
   "source": [
    "# in order for bar chart to appear in descending order of meat consumption\n",
    "# sort pandas dataframe by meat consumption \n",
    "# you can use sort_values method for that\n"
   ]
  },
  {
   "cell_type": "code",
   "execution_count": null,
   "metadata": {},
   "outputs": [],
   "source": [
    "# create stacked bar chart\n",
    "\n",
    "# start by pivoting the 2018 dataframe to have types of meat as columns and countries as rows\n",
    "\n",
    "\n",
    "# if you want the bars to appear ordered by total meat consumption, add total column and sort the dataframe by it\n",
    "# you can use the .sum() method providing the necessary axis as an argument\n",
    "\n",
    "\n",
    "# drop the total column after the sorting so that it doesn't appear on the graph\n",
    "\n",
    "\n",
    "# unpivot the dataframe\n",
    "\n",
    "# create stacked bar chart\n"
   ]
  },
  {
   "cell_type": "markdown",
   "metadata": {},
   "source": [
    "**Plotly Option**"
   ]
  },
  {
   "cell_type": "code",
   "execution_count": null,
   "metadata": {},
   "outputs": [],
   "source": [
    "# create a bar chart\n"
   ]
  },
  {
   "cell_type": "code",
   "execution_count": null,
   "metadata": {},
   "outputs": [],
   "source": [
    "# create a sorted bar chart\n"
   ]
  },
  {
   "cell_type": "code",
   "execution_count": null,
   "metadata": {},
   "outputs": [],
   "source": [
    "# create stacked bar chart\n",
    "\n",
    "# start by pivoting the 2018 dataframe to have types of meat as columns and countries as rows\n",
    "\n",
    "\n",
    "# if you want the bars to appear ordered by total meat consumption, add total column and sort the dataframe by it\n",
    "# you can use the .sum() method providing the necessary axis as an argument\n",
    "\n",
    "# drop the total column after the sorting so that it doesn't appear on the graph\n",
    "\n",
    "\n",
    "# create a stacked bar chart (use barmode='stack')\n"
   ]
  },
  {
   "cell_type": "code",
   "execution_count": null,
   "metadata": {},
   "outputs": [],
   "source": []
  }
 ],
 "metadata": {
  "kernelspec": {
   "display_name": "Dash v2",
   "language": "python",
   "name": "dash"
  },
  "language_info": {
   "codemirror_mode": {
    "name": "ipython",
    "version": 3
   },
   "file_extension": ".py",
   "mimetype": "text/x-python",
   "name": "python",
   "nbconvert_exporter": "python",
   "pygments_lexer": "ipython3",
   "version": "3.7.4"
  }
 },
 "nbformat": 4,
 "nbformat_minor": 2
}
